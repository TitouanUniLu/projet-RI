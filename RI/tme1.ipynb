{
 "cells": [
  {
   "cell_type": "code",
   "execution_count": 1,
   "metadata": {},
   "outputs": [],
   "source": [
    "from porter import stem\n",
    "from collections import Counter\n",
    "import numpy as np\n"
   ]
  },
  {
   "cell_type": "markdown",
   "metadata": {},
   "source": [
    "Exo 1"
   ]
  },
  {
   "cell_type": "code",
   "execution_count": 2,
   "metadata": {},
   "outputs": [
    {
     "data": {
      "text/plain": [
       "Counter({'juli': 1, 'encount': 1, 'new': 1, 'home': 1, 'sale': 1, 'rise': 1})"
      ]
     },
     "execution_count": 2,
     "metadata": {},
     "output_type": "execute_result"
    }
   ],
   "source": [
    "#1.1\n",
    "\n",
    "doc1=\"the new home has been saled on top forecasts\"\n",
    "doc2=\"the home sales rise in july\"\n",
    "doc3=\"there is an increase in home sales in july\"\n",
    "doc4=\"july encounter a new home sales rise\"\n",
    "\n",
    "empty=[\"the\",\"a\",\"an\",\"on\",\"behind\",\"under\",\"there\",\"in\",\"on\"]\n",
    "\n",
    "def q11(doc):\n",
    "    word_list=[]\n",
    "    prev=0\n",
    "    for i in range(len(doc)):\n",
    "        if doc[i] == ' ' or i==len(doc)-1:\n",
    "            word=doc[prev:i+1] if i==len(doc)-1 else doc[prev:i]\n",
    "            if word not in empty:\n",
    "                word_list.append(word)\n",
    "            prev=i+1\n",
    "    for i in range(len(word_list)):\n",
    "        word_list[i]=stem(word_list[i])\n",
    "    c=Counter(word_list)\n",
    "    return c\n",
    "\n",
    "q11(doc4)"
   ]
  },
  {
   "cell_type": "code",
   "execution_count": 3,
   "metadata": {},
   "outputs": [
    {
     "name": "stdout",
     "output_type": "stream",
     "text": [
      "{0: Counter({'new': 1, 'home': 1, 'ha': 1, 'been': 1, 'sale': 1, 'top': 1, 'forecast': 1}), 1: Counter({'home': 1, 'sale': 1, 'rise': 1, 'juli': 1}), 2: Counter({'is': 1, 'increas': 1, 'home': 1, 'sale': 1, 'juli': 1}), 3: Counter({'juli': 1, 'encount': 1, 'new': 1, 'home': 1, 'sale': 1, 'rise': 1})}\n",
      "{'new': {'0': '1', '3': '1'}, 'home': {'0': '1', '1': '1', '2': '1', '3': '1'}, 'ha': {'0': '1'}, 'been': {'0': '1'}, 'sale': {'0': '1', '1': '1', '2': '1', '3': '1'}, 'top': {'0': '1'}, 'forecast': {'0': '1'}, 'rise': {'1': '1', '3': '1'}, 'juli': {'1': '1', '2': '1', '3': '1'}, 'is': {'2': '1'}, 'increas': {'2': '1'}, 'encount': {'3': '1'}}\n"
     ]
    }
   ],
   "source": [
    "#1.2\n",
    "\n",
    "Alldocs=[doc1,doc2,doc3,doc4]\n",
    "\n",
    "# fichier index :\n",
    "\n",
    "index_file=dict()\n",
    "for i in range(len(Alldocs)):\n",
    "    c=q11(Alldocs[i])\n",
    "    index_file[i]=c\n",
    "\n",
    "print(index_file)\n",
    "\n",
    "# fichier index inversé : \n",
    "    \n",
    "inverted_index=dict()\n",
    "\n",
    "for i in range(len(Alldocs)):\n",
    "    c=q11(Alldocs[i])\n",
    "    for word in c:\n",
    "        if word not in inverted_index:\n",
    "            inverted_index[word]=dict()\n",
    "        inverted_index[word][f'{i}']=f\"{c[word]}\"\n",
    "\n",
    "print(inverted_index)"
   ]
  },
  {
   "cell_type": "code",
   "execution_count": 8,
   "metadata": {},
   "outputs": [
    {
     "name": "stdout",
     "output_type": "stream",
     "text": [
      "1.3862943611198906\n"
     ]
    }
   ],
   "source": [
    "# tf-idf\n",
    "\n",
    "N=len(Alldocs)\n",
    "def tfidf(word,doc):\n",
    "    i=Alldocs.index(doc)\n",
    "    tf=index_file[i][word]\n",
    "    idf=np.log(N/len(inverted_index[word]))\n",
    "    return tf*idf\n",
    "\n",
    "print(tfidf(\"encount\",doc4))"
   ]
  },
  {
   "cell_type": "markdown",
   "metadata": {},
   "source": [
    "Exo 2 "
   ]
  },
  {
   "cell_type": "code",
   "execution_count": 15,
   "metadata": {},
   "outputs": [
    {
     "name": "stdout",
     "output_type": "stream",
     "text": [
      "Counter({'home': 1, 'sale': 1, 'top': 1})\n"
     ]
    },
    {
     "data": {
      "text/plain": [
       "([3, 2, 2, 2], 0)"
      ]
     },
     "execution_count": 15,
     "metadata": {},
     "output_type": "execute_result"
    }
   ],
   "source": [
    "# 2.1 Il faut interroger index inverse car c'est plus simple à lire \n",
    "\n",
    "# 2.2: Modèle booléen\n",
    "\n",
    "request=[\"home\",\"sale\",\"top\"]\n",
    "def doc_score_bool():\n",
    "    res=set(inverted_index[request[0]].keys())\n",
    "    for word in request[1:]:\n",
    "        res=res.intersection(set(inverted_index[word].keys()))\n",
    "    return res\n",
    "\n",
    "doc_score_bool()\n",
    "\n",
    "# 2.3: Modèle vectoriel(scalaire)\n",
    "\n",
    "def scalar_model():\n",
    "    c=Counter(request)\n",
    "    print(c)\n",
    "    scores=[]\n",
    "    for i in range(len(Alldocs)):\n",
    "        score=0\n",
    "        for word in request:\n",
    "            score+=c[word]*index_file[i][word]\n",
    "        scores.append(score)\n",
    "    return(scores,np.argmax(scores))\n",
    "\n",
    "scalar_model()\n",
    "\n",
    "# 2.4: Jelineck-Mercer\n",
    "\n",
    "def jelineck_mercer():\n",
    "    "
   ]
  }
 ],
 "metadata": {
  "kernelspec": {
   "display_name": "Python 3",
   "language": "python",
   "name": "python3"
  },
  "language_info": {
   "codemirror_mode": {
    "name": "ipython",
    "version": 3
   },
   "file_extension": ".py",
   "mimetype": "text/x-python",
   "name": "python",
   "nbconvert_exporter": "python",
   "pygments_lexer": "ipython3",
   "version": "3.11.8"
  }
 },
 "nbformat": 4,
 "nbformat_minor": 2
}
