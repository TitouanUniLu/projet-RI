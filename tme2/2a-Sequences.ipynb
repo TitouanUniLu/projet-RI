{
 "cells": [
  {
   "cell_type": "markdown",
   "metadata": {},
   "source": [
    "# Sequence Processing with HMMs and CRFs\n",
    "\n",
    "**The goal of this practical is to study sequence models in NLP.**\n",
    "\n",
    "We will work on Part-Of-Speech (POS) and optionally on chunking (gathering different groups in sentences). The datasets are from [CONLL 2000](https://www.clips.uantwerpen.be/conll2000/chunking/): \n",
    "- **Small corpus:** chtrain/chtest to understand the tools and models \n",
    "- **Larger corpus:** train/test to collect reliable experimental results\n",
    "\n",
    "\n",
    "# 1) HMMS\n"
   ]
  },
  {
   "cell_type": "code",
   "execution_count": 1,
   "metadata": {},
   "outputs": [],
   "source": [
    "import numpy as np\n",
    "import matplotlib.pyplot as plt\n"
   ]
  },
  {
   "cell_type": "code",
   "execution_count": 2,
   "metadata": {},
   "outputs": [],
   "source": [
    "# Loading POS/Chunking data\n",
    "def load(filename):\n",
    "    listeDoc = list()\n",
    "    with open(filename, \"r\") as f:\n",
    "        doc = list()\n",
    "        for ligne in f:\n",
    "            if len(ligne) < 2: # fin de doc\n",
    "                listeDoc.append(doc)\n",
    "                doc = list()\n",
    "                continue\n",
    "            mots = ligne.replace(\"\\n\",\"\").split(\" \")\n",
    "            doc.append((mots[0],mots[1])) # Change mots[1] -> mots[2] for chuncking\n",
    "    return listeDoc"
   ]
  },
  {
   "cell_type": "code",
   "execution_count": 6,
   "metadata": {},
   "outputs": [
    {
     "name": "stdout",
     "output_type": "stream",
     "text": [
      "823  docs read\n",
      "77  docs (T) read\n"
     ]
    }
   ],
   "source": [
    "# =============== loding ============\n",
    "# small corpus => ideal for first tests\n",
    "filename = \"conll2000/conll2000/chtrain.txt\" \n",
    "filenameT = \"conll2000/conll2000/chtest.txt\" \n",
    "\n",
    "# Larger corpus => To valide perf.\n",
    "# filename = \"ressources/conll2000/train.txt\" \n",
    "# filenameT = \"ressources/conll2000/test.txt\" \n",
    "\n",
    "alldocs = load(filename)\n",
    "alldocsT = load(filenameT)\n",
    "\n",
    "print(len(alldocs),\" docs read\")\n",
    "print(len(alldocsT),\" docs (T) read\")"
   ]
  },
  {
   "cell_type": "code",
   "execution_count": 7,
   "metadata": {},
   "outputs": [
    {
     "name": "stdout",
     "output_type": "stream",
     "text": [
      "[('Rockwell', 'NNP'), ('International', 'NNP'), ('Corp.', 'NNP'), (\"'s\", 'POS'), ('Tulsa', 'NNP'), ('unit', 'NN'), ('said', 'VBD'), ('it', 'PRP'), ('signed', 'VBD'), ('a', 'DT'), ('tentative', 'JJ'), ('agreement', 'NN'), ('extending', 'VBG'), ('its', 'PRP$'), ('contract', 'NN'), ('with', 'IN'), ('Boeing', 'NNP'), ('Co.', 'NNP'), ('to', 'TO'), ('provide', 'VB'), ('structural', 'JJ'), ('parts', 'NNS'), ('for', 'IN'), ('Boeing', 'NNP'), (\"'s\", 'POS'), ('747', 'CD'), ('jetliners', 'NNS'), ('.', '.')]\n",
      "[('Confidence', 'NN'), ('in', 'IN'), ('the', 'DT'), ('pound', 'NN'), ('is', 'VBZ'), ('widely', 'RB'), ('expected', 'VBN'), ('to', 'TO'), ('take', 'VB'), ('another', 'DT'), ('sharp', 'JJ'), ('dive', 'NN'), ('if', 'IN'), ('trade', 'NN'), ('figures', 'NNS'), ('for', 'IN'), ('September', 'NNP'), (',', ','), ('due', 'JJ'), ('for', 'IN'), ('release', 'NN'), ('tomorrow', 'NN'), (',', ','), ('fail', 'VB'), ('to', 'TO'), ('show', 'VB'), ('a', 'DT'), ('substantial', 'JJ'), ('improvement', 'NN'), ('from', 'IN'), ('July', 'NNP'), ('and', 'CC'), ('August', 'NNP'), (\"'s\", 'POS'), ('near-record', 'JJ'), ('deficits', 'NNS'), ('.', '.')]\n"
     ]
    }
   ],
   "source": [
    "print(alldocs[0])\n",
    "print(alldocsT[0])"
   ]
  },
  {
   "cell_type": "markdown",
   "metadata": {},
   "source": [
    "## Building a baseline POS model (without sequence)\n",
    "\n",
    "We will build a simple dictionary ```word => PoS label``` without taking into account any sequence information. We will compare the sequence models to this baseline.\n",
    "\n",
    "The dataset is a list a tuples with ```(word, POS)```. **Build a simple dictionary mapping each word to its PoS tag in the train set**"
   ]
  },
  {
   "cell_type": "code",
   "execution_count": 9,
   "metadata": {},
   "outputs": [
    {
     "name": "stdout",
     "output_type": "stream",
     "text": [
      "{'Rockwell': 'NNP', 'International': 'NNP', 'Corp.': 'NNP', \"'s\": 'POS', 'Tulsa': 'NNP', 'unit': 'NN', 'said': 'VBD', 'it': 'PRP', 'signed': 'VBD', 'a': 'DT', 'tentative': 'JJ', 'agreement': 'NN', 'extending': 'VBG', 'its': 'PRP$', 'contract': 'NN', 'with': 'IN', 'Boeing': 'NNP', 'Co.': 'NNP', 'to': 'TO', 'provide': 'VB', 'structural': 'JJ', 'parts': 'NNS', 'for': 'IN', '747': 'CD', 'jetliners': 'NNS', '.': '.', 'the': 'DT', 'calls': 'VBZ', 'supply': 'VB', '200': 'CD', 'additional': 'JJ', 'so-called': 'JJ', 'shipsets': 'NNS', 'planes': 'NNS', 'These': 'DT', 'include': 'VBP', ',': ',', 'among': 'IN', 'other': 'JJ', 'each': 'DT', 'jetliner': 'NN', 'two': 'CD', 'major': 'JJ', 'bulkheads': 'NNS', 'pressure': 'NN', 'floor': 'NN', 'torque': 'NN', 'box': 'NN', 'fixed': 'VBN', 'leading': 'VBG', 'edges': 'NNS', 'wings': 'NNS', 'and': 'CC', 'an': 'DT', 'aft': 'JJ', 'keel': 'NN', 'beam': 'NN', 'Under': 'IN', 'existing': 'VBG', 'has': 'VBZ', 'already': 'RB', 'delivered': 'VBN', '793': 'CD', 'of': 'IN', 'based': 'VBN', 'in': 'IN', 'El': 'NNP', 'Segundo': 'NNP', 'Calif.': 'NNP', 'is': 'VBZ', 'aerospace': 'NN', 'electronics': 'NNS', 'automotive': 'JJ', 'graphics': 'NNS', 'concern': 'NN', 'Frank': 'NNP', 'Carlucci': 'NNP', 'III': 'NNP', 'was': 'VBD', 'named': 'VBN', 'this': 'DT', 'telecommunications': 'NNS', 'company': 'NN', 'board': 'NN', 'filling': 'VBG', 'vacancy': 'NN', 'created': 'VBD', 'by': 'IN', 'death': 'NN', 'William': 'NNP', 'Sobey': 'NNP', 'last': 'JJ', 'May': 'NNP', 'Mr.': 'NNP', '59': 'CD', 'years': 'NNS', 'old': 'JJ', 'served': 'VBN', 'as': 'IN', 'defense': 'NN', 'secretary': 'NN', 'Reagan': 'NNP', 'administration': 'NN', 'In': 'IN', 'January': 'NNP', 'he': 'PRP', 'accepted': 'VBN', 'position': 'NN', 'vice': 'NN', 'chairman': 'NN', 'Carlyle': 'NNP', 'Group': 'NNP', 'merchant': 'NN', 'banking': 'NN', 'SHEARSON': 'NNP', 'LEHMAN': 'NNP', 'HUTTON': 'NNP', 'Inc': 'NNP', 'Thomas': 'NNP', 'E.': 'NNP', 'Meador': 'NNP', '42': 'CD', 'president': 'NN', 'chief': 'JJ', 'operating': 'VBG', 'officer': 'NN', 'Balcor': 'NNP', 'Skokie': 'NNP', 'Ill.': 'NNP', 'subsidiary': 'NN', 'New': 'NNP', 'York': 'NNP', 'investment': 'NN', 'firm': 'NN', 'which': 'WDT', 'interests': 'NNS', 'real': 'JJ', 'estate': 'NN', 'newly': 'RB', 'had': 'VBN', 'been': 'VBN', 'executive': 'JJ', 'addition': 'NN', 'his': 'PRP$', 'previous': 'JJ', 'real-estate': 'NN', 'asset-management': 'NN', 'duties': 'NNS', 'takes': 'VBZ', 'responsibility': 'NN', 'development': 'NN', 'property': 'NN', 'management': 'NN', 'Those': 'DT', 'held': 'VBN', 'Van': 'NNP', 'Pell': 'NNP', '44': 'CD', 'who': 'WP', 'resigned': 'VBD', 'Shearson': 'NNP', 'about': 'IN', '60%-held': 'JJ', 'American': 'NNP', 'Express': 'NNP', 'Co': 'NNP', 'Great': 'NNP', 'Bank': 'NNP', 'citing': 'VBG', 'depressed': 'JJ', 'Arizona': 'NNP', 'prices': 'NNS', 'posted': 'VBD', 'third-quarter': 'JJ', 'loss': 'NN', '$': '$', '59.4': 'CD', 'million': 'CD', 'or': 'CC', '2.48': 'CD', 'share': 'NN', 'A': 'DT', 'year': 'NN', 'earlier': 'RBR', 'savings': 'NNS', 'bank': 'NN', 'earnings': 'NNS', '8.1': 'CD', '33': 'CD', 'cents': 'NNS', 'For': 'IN', 'nine': 'CD', 'months': 'NNS', '58.3': 'CD', '2.44': 'CD', 'after': 'IN', '29.5': 'CD', '1.20': 'CD', '1988': 'CD', 'period': 'NN', 'increased': 'VBD', 'loan-loss': 'NN', 'reserves': 'NNS', '93': 'CD', 'reviewing': 'VBG', 'loan': 'NN', 'portfolio': 'NN', 'raising': 'VBG', 'total': 'JJ', '217': 'CD', 'Before': 'IN', 'profit': 'NN', '10': 'CD', 'quarter': 'NN', 'The': 'DT', 'move': 'NN', 'followed': 'VBN', 'round': 'NN', 'similar': 'JJ', 'increases': 'NNS', 'lenders': 'NNS', 'against': 'IN', 'loans': 'NNS', 'reflecting': 'VBG', 'continuing': 'VBG', 'decline': 'VB', 'that': 'WDT', 'market': 'NN', 'reserve': 'NN', 'took': 'VBD', 'special': 'JJ', 'charge': 'NN', '5': 'NN', 'representing': 'VBG', 'general': 'JJ', 'administrative': 'JJ', 'expenses': 'NNS', 'from': 'IN', 'staff': 'NN', 'reductions': 'NNS', 'matters': 'NNS', '7.6': 'CD', 'reduction': 'NN', 'expected': 'VBN', 'mortgage': 'NN', 'servicing': 'NN', 'fees': 'NNS', 'fact': 'NN', 'more': 'JJR', 'borrowers': 'NNS', 'are': 'VBP', 'prepaying': 'VBG', 'their': 'PRP$', 'mortgages': 'NNS', 'Arbitragers': 'NNS', 'were': 'VBD', \"n't\": 'RB', 'only': 'RB', 'big': 'JJ', 'losers': 'NNS', 'collapse': 'VB', 'UAL': 'NNP', 'stock': 'NN', 'Look': 'VB', 'at': 'IN', 'what': 'WP', 'happened': 'VBD', 'Stephen': 'NNP', 'M.': 'NNP', 'Wolf': 'NNP', 'financial': 'JJ', 'John': 'NNP', 'C.': 'NNP', 'Pope': 'NNP', 'On': 'IN', 'day': 'NN', 'some': 'DT', 'United': 'NNP', 'Airlines': 'NNPS', 'employees': 'NNS', 'wanted': 'VBD', 'fired': 'VBD', 'takeover': 'NN', 'speculators': 'NNS', 'scalp': 'NN', 'Messrs.': 'NNP', 'saw': 'VBD', 'prospective': 'JJ', 'personal': 'JJ', 'fortunes': 'NNS', 'continue': 'VB', 'plummet': 'VB', 'shares': 'NNS', 'parent': 'NN', 'dived': 'VBD', '24.875': 'CD', 'on': 'IN', 'Big': 'NNP', 'Board': 'NNP', 'close': 'VB', '198': 'CD', 'Including': 'VBG', 'Monday': 'NNP', 'plunge': 'NN', 'given': 'VBN', 'executives': 'NNS', 'paper': 'NN', 'losses': 'NNS', '49.5': 'CD', 'they': 'PRP', 'would': 'MD', 'have': 'VBP', 'realized': 'VBN', 'pilots': 'NNS', 'management-led': 'JJ', 'buy-out': 'NN', 'gone': 'VBN', 'through': 'IN', '300': 'CD', 'When': 'WRB', 'financing': 'VBG', 'collapsed': 'VBD', 'week': 'NN', 'so': 'RB', 'did': 'VBD', 'Even': 'RB', 'if': 'IN', 'banks': 'NNS', 'resurrect': 'VB', 'package': 'NN', '250': 'CD', 'still': 'RB', 'get': 'VB', '25': 'CD', 'less': 'JJR', 'than': 'IN', 'stood': 'VBD', 'gain': 'NN', 'initial': 'JJ', 'transaction': 'NN', 'owns': 'VBZ', '75,000': 'CD', 'options': 'NNS', 'buy': 'VB', 'another': 'DT', '250,000': 'CD', '83.3125': 'CD', '300-a-share': 'JJ', 'buyout': 'NN', 'totaled': 'VBD', '76.7': 'CD', 'By': 'IN', 'yesterday': 'NN', 'trading': 'NN', 'good': 'JJ', 'paltry': 'JJ', '43.5': 'CD', 'Of': 'IN', 'course': 'NN', '48': 'CD', 'He': 'PRP', 'left': 'VBN', 'jobs': 'NNS', 'Republic': 'NNP', 'Flying': 'NNP', 'Tiger': 'NNP', 'combined': 'VBN', 'stock-option': 'NN', 'gains': 'NNS', '22': 'CD', 'gave': 'VBD', 'him': 'PRP', '15': 'CD', 'bonus': 'NN', 'when': 'WRB', 'hired': 'VBN', 'His': 'PRP$', 'salary': 'NN', '575,000': 'CD', '40-year': 'JJ', 'changed': 'VBN', 'enough': 'RB', '--': ':', 'least': 'JJS', 'right': 'NN', 'ones': 'NNS', 'stash': 'VB', 'away': 'RB', 'kind': 'NN', 'money': 'NN', 'paid': 'VBN', '375,000': 'CD', 'lure': 'VB', '342,122': 'CD', '280,000': 'CD', '10,000': 'CD', '150,000': 'CD', '69': 'CD', 'That': 'DT', 'came': 'VBD', '37.7': 'CD', 'under': 'IN', 'but': 'CC', 'just': 'RB', '21.3': 'CD', '114.4': 'CD', 'men': 'NNS', 'scheduled': 'VBN', 'reap': 'VB', 'agreed': 'VBD', 'invest': 'VB', 'angering': 'VBG', 'many': 'JJ', 'thousands': 'NNS', 'workers': 'NNS', 'asked': 'VBD', 'make': 'VB', 'pay': 'VB', 'concessions': 'NNS', 'be': 'VB', 'success': 'NN', 'directors': 'NNS', 'voted': 'VBD', 'themselves': 'PRP', 'spouses': 'NNS', 'lifetime': 'NN', 'access': 'NN', 'Friendly': 'NNP', 'Skies': 'NNPS', 'free': 'JJ', 'first-class': 'JJ', 'travel': 'NN', '20,000': 'CD', 'life': 'NN', 'well': 'RB', 'Conceivably': 'RB', 'scaled-back': 'JJ', 'could': 'MD', 'bumped': 'VBN', 'back': 'RB', 'coach': 'NN', 'seats': 'NNS', 'H.': 'NNP', 'Johnson': 'NNP', 'Coatedboard': 'NNP', 'division': 'NN', 'Mead': 'NNP', 'Manville': 'NNP', 'Forest': 'NNP', 'Products': 'NNPS', 'senior': 'JJ', 'Corp': 'NNP', 'succeeds': 'VBZ', 'Harry': 'NNP', 'W.': 'NNP', 'Sherman': 'NNP', 'pursue': 'VB', 'both': 'DT', 'positions': 'NNS', 'building': 'VBG', 'forest': 'NN', 'products': 'NNS', 'US': 'PRP', 'Facilities': 'NNPS', 'Robert': 'NNP', 'J.': 'NNP', 'Percival': 'NNP', 'step': 'NN', 'down': 'RB', 'insurance': 'NN', 'holding': 'VBG', '``': '``', 'There': 'EX', 'difference': 'NN', 'opinion': 'NN', 'future': 'NN', 'direction': 'NN', \"''\": \"''\", 'spokeswoman': 'NN', 'declined': 'VBD', 'comment': 'VB', 'statement': 'NN', 'employment': 'NN', 'act': 'NN', 'consultant': 'NN', 'will': 'MD', 'also': 'RB', 'remain': 'VBP', 'director': 'NN', 'wo': 'MD', 'serve': 'VB', 'any': 'DT', 'committees': 'NNS', 'succeeded': 'VBN', 'interim': 'JJ', 'basis': 'NN', 'George': 'NNP', 'Kadonada': 'NNP', 'same': 'JJ', 'bought': 'VBN', '112,000': 'CD', 'common': 'JJ', 'private': 'JJ', 'Terms': 'NNS', 'disclosed': 'VBN', 'buy-back': 'NN', 'represents': 'VBZ', '3': 'CD', '%': 'NN', '3.7': 'CD', 'outstanding': 'JJ', 'Sept.': 'NNP', '30': 'CD', 'national': 'JJ', 'over-the-counter': 'JJ', 'closed': 'VBN', '3.625': 'CD', 'unchanged': 'JJ', 'Three': 'CD', 'drug': 'NN', 'companies': 'NNS', 'reported': 'VBD', 'robust': 'JJ', 'bolstered': 'VBN', 'strong': 'JJ', 'sales': 'NNS', 'newer': 'JJR', 'big-selling': 'JJ', 'prescriptions': 'NNS', 'drugs': 'NNS', 'hefty': 'JJ', 'margins': 'NNS', 'Merck': 'NNP', '&': 'CC', 'increase': 'VB', ';': ':', 'Warner-Lambert': 'NNP', 'rose': 'VBD', 'Eli': 'NNP', 'Lilly': 'NNP', 'net': 'JJ', 'income': 'NN', '24': 'CD', 'results': 'NNS', 'line': 'NN', 'analysts': 'NNS', \"'\": \"''\", 'expectations': 'NNS', 'Rahway': 'NNP', 'N.J.': 'NNP', 'continued': 'VBN', 'lead': 'NN', 'industry': 'NN', 'performance': 'NN', 'human': 'JJ', 'animal': 'NN', 'health-products': 'NNS', 'segment': 'NN', 'stronger': 'JJR', 'U.S.': 'NNP', 'dollar': 'NN', 'reduced': 'VBN', 'first-nine-month': 'JJ', 'growth': 'NN', '2': 'CD', 'respectively': 'RB', 'accounted': 'VBD', '47': 'CD', 'compared': 'VBN', '50': 'CD', 'Sales': 'NNS', '1.63': 'CD', 'billion': 'CD', '1.47': 'CD', 'Mevacor': 'NNP', 'new': 'JJ', 'cholesterol-lowering': 'JJ', 'higher': 'JJR', 'prescription': 'NN', 'medicine': 'NN', 'ever': 'RB', 'achieved': 'VBN', 'following': 'VBG', 'introduction': 'NN', 'introduced': 'VBN', 'West': 'NNP', 'Germany': 'NNP', 'Intense': 'JJ', 'competition': 'NN', 'however': 'RB', 'led': 'VBN', 'declines': 'NNS', 'group': 'NN', 'established': 'VBN', 'animal-health': 'NN', 'including': 'VBG', 'Aldomet': 'NNP', 'Indocin': 'NNP', 'Stock': 'NNP', 'Exchange': 'NNP', 'composite': 'JJ', '75.25': 'CD', 'up': 'IN', 'Morris': 'NNP', 'Plains': 'NNP', 'record': 'NN', 'eighth': 'JJ', 'row': 'NN', '20': 'CD', 'per-share': 'JJ', 'Spurred': 'VBN', 'world-wide': 'JJ', '1989': 'CD', 'best': 'JJS', 'history': 'NN', '6.10': 'CD', '1.11': 'CD', '1.03': 'CD', 'Prescription-drug': 'NN', '9': 'CD', '340': 'CD', 'cardiovascular': 'JJ', 'Lopid': 'NNP', 'lipid': 'NN', 'regulator': 'NN', 'Dilzem': 'NNP', 'calcium': 'NN', 'channel': 'NN', 'blocker': 'NN', 'World-wide': 'JJ', 'non-prescription': 'JJ', 'health-care': 'NN', 'such': 'JJ', 'Halls': 'NNP', 'cough': 'NN', 'tablets': 'NNS', 'Rolaids': 'NNP', 'antacid': 'NN', 'Lubriderm': 'NNP', 'skin': 'NN', 'lotion': 'NN', '362': 'CD', 'third': 'JJ', 'Confectionery': 'JJ', 'Trident': 'NNP', 'gum': 'NN', 'Certs': 'NNP', 'breath': 'NN', 'mints': 'NNS', 'Clorets': 'NNP', '12': 'CD', '277': 'CD', '109.50': 'CD', '1.50': 'CD', 'attributed': 'VBD', 'nine-month': 'JJ', 'pharmaceuticals': 'NNS', 'medical': 'JJ', 'instruments': 'NNS', 'plant-science': 'NN', 'despite': 'IN', 'poor': 'JJ', 'exchange': 'NN', 'rates': 'NNS', 'slowed': 'VBD', 'abroad': 'RB', 'Earnings': 'NNS', 'pace': 'NN', 'because': 'IN', 'lower': 'JJR', 'tax': 'NN', 'rate': 'NN', 'renegotiation': 'NN', 'debt': 'NN', 'instrument': 'NN', 'received': 'VBD', 'Faberge': 'NNP', 'Inc.': 'NNP', 'connection': 'NN', 'sale': 'NN', 'Elizabeth': 'NNP', 'Arden': 'NNP', '1987': 'CD', 'proceeds': 'NNS', 'settlement': 'NN', 'patent': 'NN', 'litigation': 'NN', 'Hybritech': 'NNP', 'Third-quarter': 'JJ', 'Indianapolis': 'NNP', 'Ind.': 'NNP', '11': 'CD', '1.045': 'CD', '940.6': 'CD', 'Nine-month': 'JJ', 'grew': 'VBD', '3.39': 'CD', '3.03': 'CD', 'Prozac': 'NNP', 'anti-depressant': 'NN', 'drug-sales': 'NNS', 'Higher': 'JJR', 'pesticides': 'NNS', 'offset': 'VBP', 'slight': 'JJ', 'fuel': 'VB', 'agricultural': 'JJ', 'product': 'NN', 'Advanced': 'NNP', 'Cardiovascular': 'NNP', 'Systems': 'NNP', 'Cardiac': 'NNP', 'Pacemakers': 'NNPS', 'units': 'NNS', 'medical-instrument': 'JJ', 'systems': 'NNS', '62.25': 'CD', '12.5': 'CD', 'Reuben': 'NNP', 'Mark': 'NNP', 'Colgate-Palmolive': 'NNP', 'comfortable': 'JJ', 'estimates': 'VBZ', 'between': 'IN', '95': 'CD', '1.05': 'CD', 'compares': 'VBZ', 'operations': 'NNS', 'discontinued': 'VBN', '88': 'CD', 'ago': 'RB', 'mean': 'NN', 'consumer-products': 'NNS', '69.5': 'CD', '76': 'CD', '47.1': 'CD', 'year-before': 'JJ', 'Analysts': 'NNS', 'estimate': 'NN', 'Colgate': 'NNP', '8': 'CD', '1.29': 'CD', 'Latin': 'NNP', 'America': 'NNP', 'Asia': 'NNP', 'Europe': 'NNP', 'Results': 'NNS', 'very': 'RB', 'meaningful': 'JJ', 'business': 'NN', 'Operating': 'NN', 'household': 'NN', 'personal-care': 'JJ', 'businesses': 'NNS', 'jumped': 'VBD', 'added': 'VBD', 'improvement': 'NN', 'result': 'VB', 'cost': 'NN', 'consolidating': 'VBG', 'manufacturing': 'NN', 'blending': 'VBG', 'organizations': 'NNS', 'focusing': 'VBG', 'carefully': 'RB', 'promotional': 'JJ', 'activities': 'NNS', 'estimated': 'VBD', 'surprise': 'NN', 'includes': 'VBZ', 'brands': 'NNS', 'Fab': 'NNP', 'laundry': 'NN', 'detergent': 'NN', 'Ajax': 'NNP', 'cleanser': 'NN', 'weak': 'JJ', 'performer': 'NN', 'flat': 'JJ', '1': 'CD', 'If': 'IN', 'you': 'PRP', 'say': 'VBP', 'mediocre': 'JJ', 'great': 'JJ', 'everywhere': 'RB', 'else': 'RB', 'fine': 'JJ', 'says': 'VBZ', 'Bonita': 'NNP', 'Austin': 'NNP', 'analyst': 'NN', 'Wertheim': 'NNP', 'Schroder': 'NNP', 'But': 'CC', 'not': 'RB', 'problem': 'NN', 'conceded': 'VBD', 'domestic': 'JJ', 'apart': 'RB', 'highly': 'RB', 'profitable': 'JJ', 'Hill': 'NNP', 'Pet': 'NNP', 'lagged': 'VBN', 'We': 'PRP', \"'ve\": 'VBP', 'done': 'VBN', 'lot': 'NN', 'improve': 'VB', '-LCB-': '(', '-RCB-': ')', 'Improving': 'VBG', 'profitability': 'NN', 'extremely': 'RB', 'high': 'JJ', 'priority': 'NN', 'To': 'TO', 'focus': 'VB', 'global': 'JJ', 'sold': 'VBN', 'Kendall': 'NNP', 'Anthony': 'NNP', 'Ittleson': 'NNP', 'elected': 'VBD', 'primarily': 'RB', 'radio': 'NN', 'television': 'NN', 'stations': 'NNS', 'increasing': 'VBG', 'number': 'NN', 'five': 'CD', 'Osborn': 'NNP', 'operates': 'VBZ', 'Muzak': 'NNP', 'franchises': 'NNS', 'entertainment': 'NN', 'properties': 'NNS', 'small': 'JJ', 'cable-television': 'NN', 'projects': 'NNS', 'CIT': 'NNP', 'Holdings': 'NNP', 'controlled': 'VBN', 'Manufacturers': 'NNP', 'Hanover': 'NNP', 'Boston': 'NNP', 'Globe': 'NNP', 'redesigned': 'VBN', 'pages': 'NNS', 'crisper': 'NN', 'look': 'VB', 'revamped': 'VBN', 'fixtures': 'NNS', 'aimed': 'VBN', 'making': 'VBG', 'consistent': 'JJ', 'easier': 'JJR', 'read': 'VB', 'Maybe': 'RB', 'can': 'MD', 'find': 'VBP', 'where': 'WRB', 'your': 'PRP$', 'favorite': 'JJ', 'writer': 'NN', 'went': 'VBD', 'Beantown': 'NNP', 'scribes': 'NNS', 'spare': 'VB', 'no': 'RB', 'invective': 'NN', 'taking': 'VBG', 'local': 'JJ', 'luminaries': 'NNS', 'Michael': 'NNP', 'Pee': 'NNP', 'Wee': 'NNP', 'Dukakis': 'NNP', 'England': 'NNP', 'Patriots': 'NNPS', 'Coach': 'NNP', 'Raymond': 'NNP', 'Rev.': 'NNP', 'Ray': 'NNP', 'Berry': 'NNP', 'poured': 'VBD', 'ridicule': 'NN', 'drawings': 'NNS', 'columnists': 'NNS', 'replaced': 'VBD', 'photos': 'NNS', 'late': 'JJ', 'night': 'NN', 'Managing': 'NNP', 'Editor': 'NNP', 'Mulvoy': 'NNP', 'bending': 'VBG', 'troops': 'NNS', 'scrapped': 'VBD', 'few': 'JJ', 'days': 'NNS', 'pictures': 'NNS', 'adorn': 'VB', 'columns': 'NNS', 'Trouble': 'NN', 'nobody': 'NN', 'thought': 'VBD', 'looked': 'VBD', 'columnist': 'NN', 'Mike': 'NNP', 'Barnicle': 'NNP', 'second': 'JJ', 'attack': 'NN', 'employer': 'NN', 'weeks': 'NNS', 'averred': 'VBD', 'shadowy': 'JJ', 'countenance': 'NN', 'bad': 'JJ', 'like': 'IN', 'face': 'NN', \"'d\": 'MD', 'bottle': 'NN', 'miracle': 'NN', 'elixir': 'NN', 'promises': 'VBZ', 'do': 'VB', 'diarrhea': 'NN', 'our': 'PRP$', 'reminded': 'VBD', 'readers': 'NNS', 'forgiven': 'VBN', 'questioning': 'VBG', 'expense': 'NN', 'chit': 'NN', 'submitted': 'VBD', 'parking': 'VBG', 'car': 'NN', 'while': 'IN', 'chasing': 'VBG', 'story': 'NN', 'I': 'PRP', 'drawing': 'VBG', 'cross': 'NN', 'someone': 'NN', 'spot': 'VB', 'whipping': 'VBG', 'open': 'JJ', 'trench': 'NN', 'coat': 'NN', '...': ':', 'guy': 'NN', 'boasted': 'VBD', 'Charles': 'NNP', 'Manson': 'NNP', 'roommate': 'NN', '19': 'CD', 'hardly': 'RB', 'kinder': 'JJR', 'renderings': 'NNS', 'colleagues': 'NNS', 'Madden': 'NNP', '-LRB-': '(', 'appears': 'VBZ', 'pervert': 'NN', '-RRB-': ')', 'Will': 'MD', 'McDonough': 'NNP', 'looks': 'VBZ', 'drove': 'VBD', 'Abe': 'NNP', 'Lincoln': 'NNP', 'Bella': 'NNP', 'English': 'NNP', 'whose': 'WP$', 'little': 'RB', 'girl': 'NN', 'now': 'RB', 'screams': 'VBZ', 'hysterically': 'RB', 'every': 'DT', 'time': 'NN', 'she': 'PRP', 'sees': 'VBZ', 'newspaper': 'NN', 'Lynn': 'NNP', 'Staley': 'NNP', 'assistant': 'NN', 'managing': 'VBG', 'editor': 'NN', 'design': 'NN', 'acknowledges': 'VBZ', 'visages': 'NNS', 'low': 'JJ', 'end': 'VB', 'likeness': 'NN', 'spectrum': 'NN', 'Rival': 'NNP', 'Herald': 'NNP', 'Howie': 'NNP', 'Carr': 'NNP', 'usually': 'RB', 'rails': 'VBZ', 'Statehouse': 'NN', 'hacks': 'NNS', 'nepotism': 'NN', 'argued': 'VBD', 'designed': 'VBN', 'hide': 'VB', 'rapidly': 'RB', 'growing': 'VBG', 'forehead': 'NN', 'facial': 'JJ', 'defects': 'NNS', 'chinless': 'JJ', 'Dan': 'NNP', 'Shaughnessy': 'NNP', 'sports': 'NNS', 'think': 'VBP', 'reader': 'NN', 'save': 'VB', 'Halloween': 'NNP', 'Instead': 'RB', 'buying': 'VBG', 'masks': 'NNS', 'kids': 'NNS', 'cut': 'NN', 'out': 'IN', 'Deeply': 'RB', 'ingrained': 'JJ', 'book': 'NN', 'review': 'NN', 'Kissing': 'VBG', 'Nature': 'NNP', 'Good-bye': 'UH', 'MacDonald': 'NNP', 'Leisure': 'NNP', 'Arts': 'NNP', '27': 'CD', 'books': 'NNS', 'reviewed': 'VBN', 'assumption': 'NN', 'warming': 'NN', 'entirely': 'RB', 'activity': 'NN', 'Is': 'VBZ', 'view': 'NN', 'justified': 'VBN', '?': '.', 'absence': 'NN', 'humans': 'NNS', 'Earth': 'NNP', 'enjoy': 'VB', 'constant': 'JJ', 'climate': 'NN', 'over': 'IN', 'long': 'JJ', 'term': 'NN', 'Clearly': 'RB', 'About': 'IN', 'ice': 'NN', 'age': 'NN', 'ended': 'VBN', 'Enormous': 'JJ', 'sheets': 'NNS', 'retreated': 'VBD', 'North': 'NNP', 'northern': 'JJ', 'This': 'DT', 'must': 'MD', 'natural': 'JJ', 'blame': 'VB', 'hundred': 'CD', 'thousand': 'CD', 'hunter-gatherers': 'NNS', 'hunting': 'NN', 'mammoths': 'NNS', 'scratching': 'VBG', 'around': 'IN', 'caves': 'NNS', 'Furthermore': 'RB', 'bell': 'NN', 'yet': 'RB', 'rung': 'VBN', 'announce': 'VB', 'immense': 'JJ', 'episode': 'NN', 'It': 'PRP', 'probably': 'RB', 'may': 'MD', 'account': 'NN', 'most': 'RBS', 'all': 'DT', 'present-day': 'JJ', 'bow': 'VBP', 'one': 'CD', 'my': 'PRP$', 'regard': 'NN', 'terrestrial': 'JJ', 'heritage': 'NN', 'we': 'PRP', 'serious': 'JJ', 'picture': 'NN', 'allow': 'VB', 'Dominant': 'NNP', 'Culture': 'NNP', 'lock': 'VB', 'us': 'PRP', 'into': 'IN', 'capitalist-exploiters-greedy-American-consumers-global': 'JJ', '-': ':', 'scenario': 'NN', 'sole': 'JJ', 'model': 'NN', 'discussion': 'NN', 'Jocelyn': 'NNP', 'Tomkin': 'NNP', 'Astronomy': 'NNP', 'Department': 'NNP', 'University': 'NNP', 'Internal': 'NNP', 'Revenue': 'NN', 'Service': 'NNP', 'plans': 'NNS', 'restructure': 'VB', 'itself': 'PRP', 'corporation': 'NN', 'tax-collecting': 'JJ', 'agency': 'NN', 'take': 'VB', 'unusual': 'JJ', 'looking': 'VBG', 'sector': 'NN', 'fill': 'VB', 'high-level': 'JJ', 'guide': 'VB', '120,000-employee': 'JJ', ':': ':', 'comptroller': 'NN', 'oversee': 'VB', 'daily': 'JJ', 'finances': 'NNS', 'information': 'NN', 'update': 'VB', 'system': 'NN', 'largest': 'JJS', 'computer': 'NN', 'data': 'NNS', 'base': 'VBP', 'world': 'NN', 'IRS': 'NNP', 'create': 'VB', 'within': 'IN', 'Commissioner': 'NNP', 'Fred': 'NNP', 'T.': 'NNP', 'Goldberg': 'NNP', 'changes': 'NNS', 'intended': 'VBD', 'bring': 'VBP', 'accountability': 'NN', 'annual': 'JJ', 'budget': 'NN', 'collects': 'VBZ', 'trillion': 'CD', 'My': 'PRP$', 'assessment': 'NN', 'everyone': 'NN', 'kinds': 'NNS', 'let': 'VB', 'responsibly': 'RB', 'effectively': 'RB', 'formulate': 'VB', 'execute': 'VB', 'And': 'CC', 'internal': 'JJ', 'controls': 'NNS', 'discipline': 'NN', 'need': 'VB', 'spend': 'VB', 'properly': 'RB', 'head': 'VB', 'July': 'NNP', 'disturbed': 'VBN', 'considers': 'VBZ', 'inefficiency': 'NN', 'waste': 'NN', 'lack': 'NN', 'coordination': 'NN', 'branches': 'NNS', 'vast': 'JJ', 'federal': 'JJ', '1961': 'CD', 'trying': 'VBG', 'modernize': 'VB', 'operated': 'VBD', 'throughout': 'IN', 'fiscal': 'JJ', '360': 'CD', 'shortfall': 'NN', 'hiring': 'VBG', 'freeze': 'NN', 'since': 'IN', 'fall': 'NN', 'commissioner': 'NN', 'closer': 'JJR', 'scrutiny': 'NN', 'how': 'WRB', 'uses': 'VBZ', 'resources': 'NNS', 'go': 'VB', 'way': 'NN', 'toward': 'IN', 'enhancing': 'VBG', 'ability': 'NN', 'collect': 'VB', 'revenue': 'NN', 'see': 'VB', 'significant': 'JJ', 'formulation': 'NN', 'execution': 'NN', 'process': 'NN', 'turn': 'VB', 'believe': 'VBP', 'hopes': 'VBZ', 'soon': 'RB', 'Customarily': 'RB', 'appoint': 'VB', 'career': 'NN', 'civil': 'JJ', 'servants': 'NNS', 'scour': 'VBP', 'Although': 'IN', '70,000': 'CD', '80,000': 'CD', 'officials': 'NNS', 'confident': 'JJ', 'attract': 'VB', 'top-notch': 'JJ', 'candidates': 'NNS', 'You': 'PRP', \"'re\": 'VBP', 'telling': 'VBG', 'next': 'JJ', 'three': 'CD', 'four': 'CD', 'six': 'CD', 'bringing': 'VBG', 'difficult': 'JJ', 'costly': 'JJ', 'modernization': 'NN', 'side': 'NN', 'developing': 'VBG', 'work': 'VB', 'governing': 'VBG', '6': 'CD', 'Maj.': 'NNP', 'Moises': 'NNP', 'Giroldi': 'NNP', 'leader': 'NN', 'abortive': 'JJ', 'coup': 'NN', 'Panama': 'NNP', 'buried': 'VBN', 'body': 'NN', 'bore': 'VBD', 'several': 'JJ', 'gunshot': 'NN', 'wounds': 'NNS', 'cracked': 'VBN', 'skull': 'NN', 'broken': 'VBN', 'legs': 'NNS', 'ribs': 'NNS', 'They': 'PRP', 'signature': 'NN', 'adversary': 'NN', 'Panamanian': 'NNP', 'Manuel': 'NNP', 'Antonio': 'NNP', 'Noriega': 'NNP', 'rebel': 'NN', 'slow': 'JJ', 'painful': 'JJ', 'headquarters': 'NN', 'Battalion-2000': 'NN', 'squad': 'NN', 'personally': 'RB', 'supervised': 'VBN', 'Gen.': 'NNP', 'official': 'NN', 'intelligence': 'NN', 'reports': 'NNS', 'Leaping': 'VBG', 'rages': 'VBZ', 'sinking': 'VBG', 'bouts': 'NNS', 'drunkenness': 'NN', 'mistrust': 'NN', 'put': 'VBP', '70': 'CD', 'involved': 'VBD', 'according': 'VBG', 'monitoring': 'VBG', 'crematoriums': 'NNS', 'funeral': 'NN', 'parlors': 'NNS', 'City': 'NN', 'changing': 'VBG', 'place': 'NN', 'sleeps': 'VBZ', 'sometimes': 'RB', 'once': 'RB', 'meals': 'NNS', 'often': 'RB', 'prepared': 'VBN', 'women': 'NNS', 'trusts': 'VBZ', 'full-time': 'JJ', 'mistress': 'NN', 'Vicky': 'NNP', 'Amado': 'NNP', 'her': 'PRP$', 'mother': 'NN', 'Norma': 'NNP', 'collecting': 'VBG', 'names': 'NNS', 'those': 'DT', 'telephoned': 'VBD', 'coup-makers': 'NNS', 'congratulate': 'VB', 'them': 'PRP', 'during': 'IN', 'brief': 'JJ', 'control': 'NN', 'More': 'JJR', 'enemies': 'NNS', 'dealt': 'VBN', 'rebellion': 'NN', 'hesitantly': 'RB', 'backed': 'VBD', 'brutal': 'JJ', 'efficient': 'JJ', 'maintaining': 'VBG', 'power': 'NN', 'Yet': 'RB', 'failed': 'VBN', 'foreign': 'JJ', 'policy': 'NN', 'embarrassment': 'NN', 'merely': 'RB', 'latest': 'JJS', 'chapter': 'NN', 'byzantine': 'JJ', 'relationship': 'NN', 'Washington': 'NNP', 'stretches': 'VBZ', 'decades': 'NNS', 'war': 'NN', 'dictator': 'NN', 'past': 'JJ', 'indictment': 'NN', 'charges': 'NNS', 'February': 'NNP', 'legacy': 'NN', 'set': 'VBN', 'destroy': 'VB', 'helped': 'VBN', 'crucible': 'NN', 'conspirators': 'NNS', 'pirates': 'NNS', 'marriage': 'NN', 'convenience': 'NN', '1960': 'CD', 'example': 'NN', 'cadet': 'NN', 'elite': 'NN', 'military': 'JJ', 'academy': 'NN', 'Peru': 'NNP', 'spy-in-training': 'NN', 'Defense': 'NNP', 'Intelligence': 'NNP', 'Agency': 'NNP', 'detained': 'VBN', 'Lima': 'NNP', 'authorities': 'NNS', 'allegedly': 'RB', 'raping': 'VBG', 'savagely': 'RB', 'beating': 'VBG', 'prostitute': 'NN', 'Embassy': 'NNP', 'cable': 'NN', 'woman': 'NN', 'nearly': 'RB', 'died': 'VBD', 'rather': 'RB', 'rein': 'NN', 'loose': 'JJ', 'spy': 'NN', 'filed': 'VBN', 'report': 'VB', 'tips': 'NNS', 'emerging': 'VBG', 'leftists': 'NNS', 'school': 'VB', 'deemed': 'VBN', 'important': 'JJ', 'From': 'IN', 'point': 'NN', 'practice': 'NN', 'overlooking': 'VBG', 'misadventures': 'NNS', 'befriended': 'VBN', 'later': 'RB', 'turned': 'VBD', 'dictators': 'NNS', 'none': 'NN', 'quite': 'RB', 'resourceful': 'JJ', '55-year-old': 'NNP', 'smooth': 'JJ', 'shah': 'NN', 'Iran': 'NNP', 'well-born': 'JJ', 'Nicaragua': 'NNP', 'Anastasio': 'NNP', 'Somoza': 'NNP', 'imperial': 'JJ', 'Ferdinand': 'NNP', 'Marcos': 'NNP', 'Philippines': 'NNP', 'bloody': 'JJ', 'Haiti': 'NNP', 'Baby': 'NNP', 'Doc': 'NNP', 'Duvalier': 'NNP', 'proved': 'VBN', 'resilient': 'JJ', 'necessity': 'NN', 'mistakes': 'NNS', 'hope': 'NN', 'remove': 'VB', 'single': 'JJ', 'error': 'NN', 'part': 'NN', 'underestimated': 'VBD', 'along': 'IN', 'Ambler': 'NNP', 'Moss': 'NNP', 'former': 'JJ', 'Ambassador': 'NNP', 'mastered': 'VBN', 'art': 'NN', 'survival': 'NN', 'keeping': 'VBG', 'propping': 'VBG', 'recent': 'JJ', 'actions': 'NNS', 'extended': 'VBN', 'shortened': 'VBN', 'might': 'MD', 'fallen': 'VBN', 'own': 'JJ', 'weight': 'NN', 'dire': 'JJ', 'economic': 'JJ', 'situation': 'NN', 'external': 'JJ', 'excuses': 'NNS', 'repression': 'NN', 'scapegoat': 'NN', 'mismanagement': 'NN', 'sat': 'VBD', 'nothing': 'NN', 'made': 'VBD', 'contends': 'VBZ', 'Perhaps': 'RB', 'allies': 'NNS', 'intervened': 'VBN', 'encourage': 'VB', 'cases': 'NNS', 'demand': 'NN', 'maintain': 'VB', 'grip': 'NN', 'throne': 'NN', 'One': 'CD', 'Colombian': 'JJ', 'boss': 'NN', 'upon': 'IN', 'hearing': 'NN', 'negotiating': 'VBG', 'abandon': 'VB', 'command': 'NN', 'exile': 'NN', 'sent': 'VBD', 'hand-sized': 'JJ', 'mahogany': 'NN', 'coffin': 'NN', 'engraved': 'VBN', 'name': 'NN', 'cornered': 'VBN', 'Fernando': 'NNP', 'Guardia': 'NNP', 'Catholic': 'NNP', 'Church': 'NNP', 'opposition': 'NN', 'Americans': 'NNPS', 'without': 'IN', 'easy': 'JJ', 'fight': 'VB', 'option': 'NN', 'advantage': 'NN', 'intimate': 'JJ', 'knowledge': 'NN', 'ways': 'NNS', 'weaknesses': 'NNS', 'tells': 'VBZ', 'friends': 'NNS', 'patience': 'NN', 'weapon': 'NN', 'gringos': 'NNS', 'short': 'VB', 'attention': 'NN', 'span': 'NN', 'stomach': 'NN', 'lasting': 'VBG', 'confrontation': 'NN', 'discovered': 'VBN', 'young': 'JJ', 'Tony': 'NNP', '1959': 'CD', 'Chorrillos': 'NNP', 'Military': 'NNP', 'Academy': 'NNP', 'contact': 'NN', 'occurred': 'VBD', 'half-brother': 'NN', 'diplomat': 'NN', 'Luis': 'NNP', 'Carlos': 'NNP', 'Hurtado': 'NNP', 'knowing': 'VBG', 'helping': 'VBG', 'advance': 'VB', 'relayed': 'VBD', 'leftist': 'JJ', 'tendencies': 'NNS', 'observed': 'VBD', 'fellow': 'NN', 'students': 'NNS', 'officers': 'NNS', 'instructors': 'NNS', 'born': 'VBN', 'heady': 'JJ', 'experience': 'NN', 'pockmarked': 'JJ', 'slightly': 'RB', 'built': 'VBN', 'known': 'VBN', 'Cara': 'NNP', 'la': 'FW', 'Pina': 'NNP', 'pineapple': 'NN', 'Born': 'VBN', 'illegitimate': 'JJ', 'son': 'NN', 'father': 'NN', 'maid': 'NN', 'raised': 'VBN', 'streets': 'NNS', 'central': 'JJ', 'district': 'NN', 'older': 'JJR', 'cadets': 'NNS', 'gained': 'VBD', 'admission': 'NN', 'brother': 'NN', 'falsified': 'VBN', 'birth': 'NN', 'certificate': 'NN', 'considered': 'VBN', 'himself': 'PRP', 'intellectually': 'RB', 'superior': 'JJ', 'Peruvian': 'JJ', 'peers': 'NNS', 'whom': 'WP', 'wayward': 'JJ', 'sons': 'NNS', 'well-off': 'JJ', 'families': 'NNS', 'disciplined': 'VBN', 'French-modeled': 'JJ', 'sort': 'NN', 'reform': 'NN', 'peaked': 'VBD', 'cap': 'NN', 'neatly': 'RB', 'pressed': 'VBN', 'French-made': 'JJ', 'uniform': 'NN', 'felt': 'VBD', 'respected': 'VBN', 'powerful': 'JJ', 'underprivileged': 'JJ', 'elegant': 'JJ', 'gold': 'NN', 'buttons': 'NNS', 'country': 'NN', 'there': 'EX', 'cult': 'NN', 'militarism': 'NN', 'privileges': 'NNS', 'recalls': 'VBZ', 'Darien': 'NNP', 'Ayala': 'NNP', 'student': 'NN', 'lifelong': 'JJ', 'friend': 'NN', 'agencies': 'NNS', 'became': 'VBD', 'contractual': 'JJ', 'either': 'DT', '1966': 'CD', '1967': 'CD', 'commanding': 'NN', 'Chiriqui': 'NNP', 'Province': 'NNP', 'garrison': 'NN', 'Major': 'NNP', 'Omar': 'NNP', 'Torrijos': 'NNP', 'intriguing': 'JJ', 'assignment': 'NN', 'organize': 'VB', 'province': 'NN', 'first': 'JJ', 'service': 'NN', 'network': 'NN', 'clients': 'NNS', 'government': 'NN', 'political': 'JJ', 'opponents': 'NNS', 'region': 'NN', 'tracking': 'VBG', 'Communist': 'NNP', 'influence': 'NN', 'unions': 'NNS', 'organized': 'VBN', 'Fruit': 'NNP', 'banana': 'NN', 'plantations': 'NNS', 'Bocas': 'NNP', 'del': 'NNP', 'Toros': 'NNP', 'Puerto': 'NNP', 'Armuelles': 'NNP', 'contributors': 'NNS', 'Satisfying': 'VBG', 'retainer': 'NN', '100': 'CD', 'month': 'NN', 'plus': 'CC', 'occasional': 'JJ', 'gifts': 'NNS', 'liquor': 'NN', 'groceries': 'NNS', 'PX': 'NNP', 'modest': 'JJ', 'standards': 'NNS', 'healthy': 'JJ', 'boost': 'VB', 'remember': 'VBP', 'having': 'VBG', '400': 'CD', 'monthly': 'JJ', 'Boris': 'NNP', 'Martinez': 'NNP', 'colonel': 'NN', 'managed': 'VBN', 'operation': 'NN', 'started': 'VBD', 'files': 'NNS', 'National': 'NNP', 'Guard': 'NNP', 'job': 'NN', 'assumed': 'VBN', 'Capt.': 'NNP', '1964': 'CD', 'transit': 'NN', 'police': 'NN', 'David': 'NNP', 'capital': 'NN', 'tailor-made': 'JJ', 'aspiring': 'JJ', 'super-spy': 'NN', 'pressuring': 'VBG', 'taxi': 'NN', 'bus': 'NN', 'drivers': 'NNS', 'needed': 'VBD', 'licenses': 'NNS', 'ready': 'JJ', 'cache': 'NN', 'knew': 'VBD', 'caught': 'VBN', 'driving': 'VBG', 'drunk': 'JJ', 'found': 'VBN', 'mistresses': 'NNS', 'particularly': 'RB', 'valuable': 'JJ', 'union': 'NN', 'leaders': 'NNS', 'planning': 'VBG', 'Day': 'NNP', 'march': 'NN', 'feared': 'VBD', 'violent': 'JJ', 'learned': 'VBD', 'sleeping': 'VBG', 'wife': 'NN', 'deputy': 'NN', 'So': 'RB', 'splashed': 'VBD', 'handbills': 'NNS', 'distributed': 'VBD', 'banana-exporting': 'JJ', 'city': 'NN', 'ruled': 'VBN', 'campaign': 'NN', 'divided': 'VBD', 'far': 'RB', 'play': 'NN', 'Broadway': 'NNP', 'whole': 'JJ', 'thing': 'NN', 'superb': 'JJ', 'expert': 'NN', 'bribing': 'VBG', 'blackmailing': 'VBG', 'people': 'NNS', 'During': 'IN', 'revealed': 'VBD', 'perverse': 'JJ', 'ingenious': 'JJ', 'Rodrigo': 'NNP', 'Miranda': 'NNP', 'lawyer': 'NN', 'human-rights': 'JJ', 'monitor': 'VB', 'intoxicated': 'JJ', 'visiting': 'VBG', 'prisoners': 'NNS', 'cells': 'NNS', '5th': 'NNP', 'Zone': 'NNP', 'Garrison': 'NNP', 'offices': 'NNS', 'order': 'NN', 'off': 'IN', 'clothes': 'NNS', 'run': 'VB', 'courtyard': 'NN', 'naked': 'JJ', 'laughing': 'VBG', 'then': 'RB', 'retreating': 'VBG', 'office': 'NN', 'People': 'NNS', 'wondering': 'VBG', 'something': 'NN', 'wrong': 'JJ', 'concerned': 'VBN', 'recruit': 'NN', 'counter-intelligence': 'JJ', 'training': 'NN', 'Fort': 'NNP', 'Gulick': 'NNP', 'copy': 'NN', '1983': 'CD', 'resume': 'NN', 'details': 'NNS', 'classified': 'VBN', 'secret': 'JJ', 'flew': 'VBD', 'Bragg': 'NNP', 'N.C.': 'NNP', 'September': 'NNP', 'psychological': 'JJ', 'returning': 'VBG', 'School': 'NNP', 'Americas': 'NNP', 'two-month': 'JJ', 'called': 'VBD', 'Some': 'DT', 'interpreted': 'VBD', 'eagerness': 'NN', 'studiousness': 'NN', 'sign': 'NN', 'loyalty': 'NN', 'falsely': 'RB', 'socalled': 'JJ', 'G-2': 'NN', '1970': 'CD', 'providing': 'VBG', 'populist': 'JJ', 'critical': 'JJ', 'support': 'NN', 'defeat': 'VB', 'attempt': 'NN', 'inseparable': 'JJ', 'shadow': 'NN', 'holder': 'NN', 'secrets': 'NNS', 'lieutenant': 'NN', 'expanded': 'VBN', 'contacts': 'NNS', 'Cubans': 'NNPS', 'mention': 'NN', 'Israelis': 'NNPS', 'Taiwanese': 'JJ', 'knocking': 'VBG', 'diplomats': 'NNS', 'complained': 'VBD', 'CIA': 'NNP', 'Col.': 'NNP', 'moonlighting': 'NN', 'experts': 'NNS', 'always': 'RB', 'insisted': 'VBD', 'allegiance': 'NN', 'Early': 'JJ', 'State': 'NNP', 'calling': 'VBG', 'rent-a-colonel': 'NN', 'tribute': 'NN', 'simultaneously': 'RB', 'milk': 'NN', 'antagonistic': 'JJ', 'services': 'NNS', 'Cuba': 'NNP', 'States': 'NNPS', 'Francis': 'NNP', 'McNeil': 'NNP', 'state': 'NN', 'inter-American': 'JJ', 'affairs': 'NNS', 'ran': 'VBD', 'across': 'IN', '1977': 'CD', 'wondered': 'VBD', 'much': 'JJ', 'early': 'JJ', 'stage': 'NN', 'caused': 'VBD', 'concerns': 'NNS', 'Nixon': 'NNP', 'Drug': 'NNP', 'Enforcement': 'NNP', 'Administration': 'NNP', 'dismayed': 'VBN', 'extent': 'NN', 'connections': 'NNS', 'arrested': 'VBN', 'traffickers': 'NNS', 'DEA': 'NNP', 'agent': 'NN', 'drew': 'VBD', 'list': 'NN', 'dealing': 'VBG', 'assassination': 'NN', 'Ingersoll': 'NNP', 'scotched': 'VBD', 'plan': 'NN', 'fly': 'VB', 'scold': 'VB', 'ties': 'NNS', 'recalled': 'VBD', 'seemed': 'VBD', 'afraid': 'JJ', 'Everybody': 'NN', 'even': 'RB', 'greater': 'JJR', 'threat': 'NN', '1976': 'CD', 'recordings': 'NNS', 'electronically': 'RB', 'monitored': 'VBN', 'conversations': 'NNS', 'sergeants': 'NNS', 'working': 'VBG', 'Army': 'NNP', '470th': 'NNP', 'tapes': 'NNS', 'included': 'VBD', 'wiretaps': 'NNS', 'phone': 'NN', 'hands': 'NNS', 'cookie': 'NN', 'jar': 'NN', 'Director': 'NNP', 'Stansfield': 'NNP', 'Turner': 'NNP', 'cutting': 'VBG', 'payroll': 'NN', 'deliberations': 'NNS', 'intense': 'JJ', 'want': 'VBP', 'seedy': 'JJ', 'characters': 'NNS', 'question': 'NN', 'tied': 'VBN', 'extort': 'VB', 'worry': 'NN', 'whether': 'IN', 'sensitive': 'JJ', 'others': 'NNS', 'troubled': 'JJ', 'cancel': 'VB', 'beginning': 'VBG', 'Carter': 'NNP', 'cause': 'VBP', 'gun-running': 'JJ', 'Prosecutors': 'NNS', 'Southern': 'NNP', 'Florida': 'NNP', 'indicted': 'VBN', 'Panamanians': 'NNS', 'illegally': 'RB', 'running': 'VBG', 'arms': 'NNS', 'Sandinista': 'NNP', 'rebels': 'NNS', 'overthrow': 'VB', 'Nicaraguan': 'JJ', 'closest': 'JJS', 'partners': 'NNS', 'Wittgreen': 'NNP', 'investigators': 'NNS', 'quickly': 'RB', 'closing': 'VBG', 'At': 'IN', 'though': 'IN', '1979': 'CD', 'again': 'RB', 'flirting': 'VBG', 'longtime': 'JJ', 'meeting': 'VBG', 'counterpart': 'NN', 'Pentagon': 'NNP', 'Dade': 'NNP', 'County': 'NNP', 'learning': 'VBG', 'Miami': 'NNP', 'arrest': 'NN', 'hit': 'VBD', 'soil': 'NN', 'Friday': 'NNP', 'June': 'NNP', 'foiled': 'VBD', 'According': 'VBG', 'word': 'NN', 'passed': 'VBN', 'hosts': 'VBZ', 'waiting': 'VBG', 'routine': 'JJ', 'unclassified': 'JJ', 'message': 'NN', 'commander': 'NN', 'Due': 'JJ', 'health': 'NN', 'reasons': 'NNS', 'Lt.': 'NNP', 'postpone': 'VB', 'visit': 'NN', 'setback': 'NN', 'Their': 'PRP$', 'original': 'JJ', 'dismissed': 'VBN', 'technicality': 'NN', 'reindicting': 'VBG', 'pal': 'NN', 'allegations': 'NNS', 'illegal': 'JJ', '1980': 'CD', 'Jerome': 'NNP', 'Sanford': 'NNP', 'attorney': 'NN', 'summoned': 'VBN', 'Federal': 'NNP', 'Bureau': 'NNP', 'Investigation': 'NNP', 'assigned': 'VBN', 'Alcohol': 'NN', 'Tobacco': 'NNP', 'Firearms': 'NNP', 'told': 'VBD', 'granted': 'VBN', 'asylum': 'NN', 'favor': 'NN', 'handling': 'VBG', 'security': 'NN', 'idea': 'NN', 'indict': 'VB', 'prosecutor': 'NN', 'After': 'IN', 'prodding': 'VBG', 'Attorney': 'NNP', 'Jack': 'NNP', 'Eskenazi': 'NNP', 'pleaded': 'VBD', 'Justice': 'NNP', 'proceed': 'VB', 'Unfortunately': 'RB', 'wrote': 'VBD', 'letter': 'NN', 'law': 'NN', 'enforcement': 'NN', 'ourselves': 'PRP', 'frequently': 'RB', 'attempting': 'VBG', 'enforce': 'VB', 'laws': 'NNS', 'being': 'VBG', 'considerations': 'NNS', 'detailed': 'VBN', 'prosecution': 'NN', 'memo': 'NN', 'desks': 'NNS', 'before': 'IN', 'case': 'NN', 'quiet': 'JJ', 'allowed': 'VBN', 'ahead': 'RB', 'problems': 'NNS', 'guilty': 'JJ', 'stopped': 'VBN', 'August': 'NNP', 'General': 'NNP', 'de-facto': 'JJ', 'maneuvered': 'VBN', 'top': 'NN', 'mysterious': 'JJ', 'plane': 'NN', 'crash': 'NN', 'Soon': 'RB', 'veritable': 'JJ', 'mafia': 'NN', 'controlling': 'VBG', 'legal': 'JJ', 'Payments': 'NNS', 'averaged': 'VBD', '200,000': 'CD', 'exclusively': 'RB', 'Sandinistas': 'NNPS', 'entered': 'VBD', 'formal': 'JJ', 'arrangement': 'NN', 'bosses': 'NNS', 'Floyd': 'NNP', 'Carlton': 'NNP', 'pilot': 'NN', 'worked': 'VBD', 'testified': 'VBD', 'grand': 'JJ', 'jury': 'NN', 'ultimately': 'RB', 'convinced': 'VBN', 'White': 'NNP', 'House': 'NNP', 'ally': 'NN', 'Jose': 'NNP', 'Blandon': 'NNP', 'involvement': 'NN', 'Contra': 'NNP', 'Contras': 'NNPS', 'center': 'NN', 'conveyed': 'VBD', 'inside': 'IN', 'Managua': 'NNP', 'occasion': 'NN', 'spring': 'NN', '1985': 'CD', 'arrange': 'VB', 'sabotage': 'NN', 'arsenal': 'NN', 'help': 'VB', 'limited': 'JJ', 'win': 'VB', 'protectors': 'NNS', 'Sen.': 'NNP', 'Patrick': 'NNP', 'Leahy': 'NNP', 'Vermont': 'NNP', 'Democrat': 'NNP', 'Senate': 'NNP', 'Committee': 'NNP', 'played': 'VBD', 'violin': 'NN', 'An': 'DT', 'incident': 'NN', '1984': 'CD', 'suggested': 'VBD', 'means': 'VBZ', 'maintained': 'VBN', 'compromising': 'VBG', 'Curtin': 'NNP', 'Windsor': 'NNP', 'ambassador': 'NN', 'Costa': 'NNP', 'Rica': 'NNP', 'invited': 'VBN', 'weekend': 'NN', 'deep': 'JJ', 'sea': 'NN', 'fishing': 'NN', 'conversation': 'NN', 'Aswara': 'NNP', 'Peninsula': 'NNP', 'notified': 'VBD', 'Everett': 'NNP', 'Briggs': 'NNP', 'invitation': 'NN', 'screamed': 'VBD', 'honey': 'NN', 'trap': 'NN', 'try': 'VBP', 'involve': 'VB', 'orgy': 'NN', 'event': 'NN', 'sound': 'NN', 'video': 'NN', 'vacation': 'NN', 'resigning': 'VBG', 'Security': 'NNP', 'Council': 'NNP', 'reached': 'VBD', 'As': 'IN', 'troubles': 'NNS', 'offers': 'VBZ', 'assistance': 'NN', 'apparent': 'JJ', 'curry': 'VB', 'instance': 'NN', 'steal': 'VB', 'elections': 'NNS', 'ruling': 'NN', 'party': 'NN', 'contributed': 'VBD', '100,000': 'CD', 'documents': 'NNS', 'released': 'VBN', 'Oliver': 'NNP', 'criminal': 'JJ', 'trial': 'NN', 'D.C': 'NNP', 'setbacks': 'NNS', 'mounted': 'VBN', 'accused': 'VBN', 'ordering': 'VBG', 'beheading': 'NN', 'Hugo': 'NNP', 'Spadafora': 'NNP', 'outspoken': 'JJ', 'opponent': 'NN', 'man': 'NN', 'publicly': 'RB', 'finger': 'NN', 'trafficking': 'NN', 'ousted': 'VBD', 'President': 'NNP', 'Nicholas': 'NNP', 'Ardito': 'NNP', 'Barletta': 'NNP', 'World': 'NNP', 'tried': 'VBD', 'commission': 'NN', 'investigate': 'VB', 'murder': 'NN', 'grow': 'VB', 'desperate': 'JJ', '1986': 'CD', 'offer': 'VBP', 'refuse': 'VB', 'recounted': 'VBN', 'stipulation': 'NN', 'summarized': 'VBD', 'offered': 'VBN', 'assassinate': 'VB', 'leadership': 'NN', 'promise': 'NN', 'clean': 'VB', 'image': 'NN', 'commitment': 'NN', 'lift': 'VB', 'ban': 'VB', 'Forces': 'NNPS', 'document': 'NN', 'referring': 'VBG', 'representative': 'NN', 'forbade': 'VBD', 'responded': 'VBD', 'numerous': 'JJ', 'assets': 'NNS', 'accomplish': 'VB', 'essential': 'JJ', 'things': 'NNS', 'blowing': 'VBG', 'request': 'VB', 'superiors': 'NNS', 'Assistant': 'NNP', 'Secretary': 'NNP', 'Elliot': 'NNP', 'Abrams': 'NNP', 'Shultz': 'NNP', 'proposal': 'NN', 'curtly': 'RB', 'should': 'MD', 'repair': 'VB', 'tarnished': 'VBN', 'hand': 'NN', 'Within': 'IN', 'unfolding': 'VBG', 'Iran-Contra': 'NNP', 'scandal': 'NN', 'Casey': 'NNP', 'resignation': 'NN', 'anti-Noriega': 'JJ', 'forces': 'NNS', 'Public': 'NNP', 'protests': 'NNS', 'triggered': 'VBN', 'due': 'JJ', 'Diaz': 'NNP', 'Herrera': 'NNP', 'stolen': 'VBN', 'election': 'NN', 'ordered': 'VBN', 'killing': 'NN', 'Few': 'JJ', 'willing': 'JJ', 'longer': 'RB', 'defend': 'VB', 'Lawyers': 'NNS', 'virtually': 'RB', 'impediment': 'NN', 'negotiations': 'NNS', 'proposals': 'NNS', 'drop': 'NN', 'indictments': 'NNS', 'almost': 'RB', 'plaintively': 'RB', 'Now': 'RB', 'neither': 'DT', 'nor': 'CC', 'Bush': 'NNP', 'sworn': 'VBN', 'justice': 'NN', 'believes': 'VBZ', 'alternative': 'NN', 'clutching': 'VBG', 'knock-out': 'JJ', 'battle': 'NN', 'perhaps': 'RB', 'equivalent': 'NN', 'Frankenstein': 'NNP', 'monster': 'NN', 'well-intentioned': 'JJ', 'misguided': 'JJ', 'Not': 'RB', 'short-term': 'JJ', 'fed': 'VBD', 'nurtured': 'VBD', 'UPJOHN': 'NNP', '96': 'CD', '52': 'CD', '89.6': 'CD', '49': 'CD', 'Yesterday': 'NN', 'edition': 'NN', 'provided': 'VBN', 'actual': 'JJ', 'available': 'JJ', 'Industrial': 'NNP', 'production': 'NN', '0.1': 'CD', 'reinforcing': 'VBG', 'signs': 'NNS', 'continues': 'VBZ', 'slowing': 'VBG', 'trend': 'NN', 'Reserve': 'NNP', 'output': 'NN', 'nation': 'NN', 'factories': 'NNS', 'mines': 'NNS', 'utilities': 'NNS', '1.3': 'CD', 'substantially': 'RB', 'slower': 'JJR', '3.3': 'CD', 'Capital': 'NNP', 'spending': 'NN', 'exports': 'NNS', 'force': 'NN', 'expansion': 'NN', 'showing': 'VBG', 'clear': 'JJ', 'steam': 'NN', 'taken': 'VBN', 'Dederick': 'NNP', 'economist': 'NN', 'Northern': 'NNP', 'Trust': 'NNP', 'Chicago': 'NNP', 'sluggishness': 'NN', 'foreshadowed': 'VBN', 'Labor': 'NNP', 'payrolls': 'NNS', 'dropped': 'VBD', '105,000': 'CD', 'give': 'VB', 'Fed': 'NNP', 'reason': 'NN', 'further': 'JJ', 'ease': 'VB', 'credit': 'NN', 'interest': 'NN', 'Maury': 'NNP', 'Harris': 'NNP', 'PaineWebber': 'NNP', '83.6': 'CD', 'capacity': 'NN', '83.8': 'CD', 'Measures': 'NNS', 'fell': 'VBD', 'overall': 'JJ', 'measures': 'NNS', 'Factory': 'NN', '0.2': 'CD', 'October': 'NNP', 'Factories': 'NNS', '83.7': 'CD', 'lowest': 'JJS', '84.1': 'CD', 'mainly': 'RB', 'reflected': 'VBD', 'widespread': 'JJ', 'weakness': 'NN', 'durable': 'JJ', 'goods': 'NNS', 'biggest': 'JJS', 'recorded': 'VBN', 'primary': 'JJ', 'metals': 'NNS', 'producers': 'NNS', 'category': 'NN', 'steel': 'NN', 'Output': 'NN', 'equipment': 'NN', 'Production': 'NN', 'factory': 'NN', 'indication': 'NN', 'strength': 'NN', 'manufacturers': 'NNS', '0.3': 'CD', 'economists': 'NNS', 'expect': 'VB', 'Whenever': 'WRB', 'corporate': 'JJ', 'profits': 'NNS', 'going': 'VBG', 'soften': 'VB', 'subsequently': 'RB', 'seen': 'VBN', 'full': 'JJ', 'effect': 'NN', 'truck': 'NN', 'sharp': 'JJ', 'rise': 'NN', 'auto': 'NN', 'assemblies': 'NNS', 'noted': 'VBD', 'surge': 'NN', 'repeated': 'VBN', 'coming': 'VBG', 'Here': 'RB', 'summary': 'NN', 'industrial': 'JJ', 'figures': 'NNS', 'seasonally': 'RB', 'adjusted': 'VBN', '142.3': 'CD', 'average': 'JJ', 'Robin': 'NNP', 'Honiss': 'NNP', 'posts': 'NNS', 'Savings': 'NNP', 'R.': 'NNP', 'Attridge': 'NNP', 'seat': 'NN', 'NESB': 'NNP', 'Omnibank': 'NNP', 'Lung-cancer': 'NN', 'mortality': 'NN', '45': 'CD', 'begun': 'VBN', 'researchers': 'NNS', 'large': 'JJ', 'white': 'JJ', 'males': 'NNS', 'although': 'IN', 'black': 'JJ', 'show': 'VB', 'issue': 'NN', 'Journal': 'NNP', 'Cancer': 'NNP', 'Institute': 'NNP', 'lung': 'NN', 'cancer': 'NN', 'begin': 'VB', 'cigarette': 'NN', 'smoking': 'NN', 'abate': 'VB', 'comes': 'VBZ', 'Surgeon': 'NNP', 'issued': 'VBD', 'warning': 'NN', 'dangers': 'NNS', 'strongest': 'JJS', 'date': 'VB', 'What': 'WP', 'saying': 'VBG', 'surgeon': 'NN', 'impact': 'NN', 'Melvyn': 'NNP', 'Tockman': 'NNP', 'epidemiologist': 'NN', 'Johns': 'NNP', 'Hopkins': 'NNP', 'Hygiene': 'NNP', 'Health': 'NNP', 'Baltimore': 'NNP', 'groups': 'NNS', 'ages': 'NNS', '35': 'CD', 'decade': 'NN', 'aged': 'VBN', 'mid-1970s': 'NNS', '13.4': 'CD', 'per': 'IN', 'mid-1980s': 'NNS', '9.6': 'CD', '28.7': 'CD', 'Measured': 'VBN', '14.2': 'CD', 'steep': 'NN', '8.9': 'CD', 'blacks': 'NNS', '5.3': 'CD', 'whites': 'NNS', 'study': 'NN', 'Susan': 'NNP', 'Devesa': 'NNP', 'Blot': 'NNP', 'Joseph': 'NNP', 'Fraumeni': 'NNP', 'institute': 'NN', 'shows': 'NNS', 'incidence': 'NN', '35-44': 'JJ', 'bracket': 'NN', 'except': 'VB', 'lung-cancer': 'NN', '1990s': 'CD', '2000': 'CD', '55': 'NN', 'everybody': 'NN', 'Dr.': 'NNP', 'authors': 'NNS', 'declining': 'VBG', 'seeing': 'VBG', 'younger': 'JJR', 'harbinger': 'NN', 'However': 'RB', 'stressed': 'VBD', 'depends': 'VBZ', 'these': 'DT', 'favorable': 'JJ', 'trends': 'NNS', 'affect': 'NN', 'sex': 'NN', 'race': 'NN', 'ca': 'MD', 'Smoking': 'NNP', 'prevention': 'NN', 'programs': 'NNS', 'reach': 'VB', 'larger': 'JJR', 'segments': 'NNS', 'population': 'NN', 'especially': 'RB', 'children': 'NNS', 'adolescents': 'NNS', 'minorities': 'NNS', 'editorial': 'NN', 'NCI': 'NNP', 'indicates': 'VBZ', 'finally': 'RB', 'winning': 'VBG', 'tobacco': 'NN', 'spends': 'VBZ', 'promotion': 'NN', 'addictive': 'JJ', 'habit': 'NN', 'Jan': 'NNP', 'Stjernsward': 'NNP', 'Organization': 'NNP', 'notes': 'NNS', 'consumption': 'NN', 'rising': 'VBG', 'countries': 'NNS', 'Non-smoking': 'NN', 'norm': 'NN', 'social': 'JJ', 'behavior': 'NN', 'enactment': 'NN', 'limit': 'VB', 'advertising': 'NN', 'promote': 'VB', 'anti-smoking': 'JJ', 'education': 'NN', 'Asked': 'VBN', 'Walker': 'NNP', 'Merryman': 'NNP', 'efforts': 'NNS', 'restrict': 'VB', 'violate': 'VB', 'First': 'NNP', 'Amendment': 'NNP', 'protection': 'NN', 'speech': 'NN', 'Society': 'NNP', 'responsible': 'JJ', '85': 'CD', '75': 'CD', 'attributes': 'VBZ', 'differences': 'NNS', 'different': 'JJ', 'patterns': 'NNS', 'proportion': 'NN', 'smoke': 'NN', 'While': 'IN', 'equal': 'JJ', 'percentages': 'NNS', 'currently': 'RB', 'sexes': 'NNS', 'comparing': 'VBG', 'Asians': 'NNS', 'native': 'JJ', 'studied': 'VBN', 'Hispanics': 'NNPS', 'Recent': 'JJ', 'age-specific': 'JJ', 'Males': 'NNPS', 'Females': 'NNPS', 'Black': 'NNP', 'Directors': 'NNS', 'Marvin': 'NNP', 'Womack': 'NNP', 'president\\\\/product': 'NN', 'purchasing': 'VBG', 'D.C.': 'NNP', 'president\\\\/national-government': 'NN', 'relations': 'NNS', 'P&G': 'NNP', 'government-relations': 'NNS', 'represent': 'VBP', 'level': 'NN', 'G.': 'NNP', 'Smale': 'NNP', 'appointment': 'NN', 'recognizes': 'VBZ', '53': 'CD', 'producer': 'NN', 'food': 'NN', 'Traders': 'NNS', 'volatility': 'NN', 'markets': 'NNS', 'invaded': 'VBD', 'Nasdaq': 'NNP', 'prompting': 'VBG', 'swings': 'NNS', 'gaining': 'VBG', 'run-up': 'NN', 'began': 'VBD', 'Composite': 'NNP', 'Index': 'NNP', 'weakened': 'VBD', 'selling': 'VBG', 'computer-guided': 'JJ', 'profit-driven': 'CD', 'makers': 'NNS', 'institutional': 'JJ', 'investors': 'NNS', 'cheap': 'JJ', 'correction': 'NN', 'hours': 'NNS', 'slipping': 'VBG', '459.93': 'CD', 'action': 'NN', 'confined': 'VBN', 'liquid': 'JJ', 'stocks': 'NNS', 'traders': 'NNS', '449.89': 'CD', 'lost': 'VBD', '0.4': 'CD', 'barometer': 'NN', 'nonfinancial': 'JJ', 'settled': 'VBD', '448.49': 'CD', '1.40': 'CD', 'Its': 'PRP$', 'Financial': 'NNP', 'sliding': 'VBG', '2.51': 'CD', '453.57': 'CD', 'dizzying': 'JJ', 'times': 'NNS', 'commented': 'VBD', 'Lance': 'NNP', 'Zipper': 'NNP', 'OTC': 'NNP', 'Kidder': 'NNP', 'Peabody': 'NNP', 'Every': 'DT', 'rally': 'NN', 'tough': 'JJ', 'settling': 'VBG', 'Most': 'JJS', 'professional': 'JJ', 'price': 'NN', 'quick': 'JJ', 'confused': 'VBN', 'lasts': 'VBZ', 'seconds': 'NNS', 'forth': 'RB', 'Rothe': 'NNP', 'Alex': 'NNP', 'Brown': 'NNP', 'Sons': 'NNP', 'program': 'NN', 'unsettled': 'JJ', 'volatile': 'JJ', 'conditions': 'NNS', 'thoroughly': 'RB', 'headed': 'VBN', 'Program': 'NN', 'benefiting': 'VBG', 'detriment': 'NN', 'wish': 'VBP', 'Trading': 'NN', 'cooled': 'VBN', 'sizzling': 'JJ', 'Share': 'NN', 'turnover': 'NN', 'subsided': 'VBD', '161.5': 'CD', 'Advancing': 'VBG', 'issues': 'NNS', 'finished': 'VBD', '4,345': 'CD', '1,174': 'CD', '1,040': 'CD', 'advanced': 'VBN', 'technology': 'NN', 'Novell': 'NNP', 'rode': 'VBD', 'roller': 'NN', 'coaster': 'NN', '29': 'CD', '1\\\\/2': 'CD', 'traded': 'VBD', '3\\\\/4': 'CD', '28': 'CD', '1\\\\/4': 'CD', 'jarring': 'VBG', 'Genetics': 'NNP', 'tumbled': 'VBD', 'news': 'NN', 'successfully': 'RB', 'resolve': 'VB', 'dispute': 'NN', 'European': 'JJ', 'licensee': 'NN', 'Boehringer': 'NNP', 'Mannheim': 'NNP', 'anti-anemia': 'NN', 'EPO': 'NNP', 'recovered': 'VBD', 'somewhat': 'RB', 'finish': 'VB', '26': 'CD', 'centers': 'NNS', 'questions': 'NNS', 'usability': 'NN', 'certain': 'JJ', 'batches': 'NNS', 'material': 'NN', 'valued': 'VBN', '13.6': 'CD', 'Earlier': 'RBR', 'wider': 'JJR', 'Aug.': 'NNP', '31': 'CD', 'Price': 'NNP', '1.7': 'CD', 'wholesaler': 'NN', 'cash': 'NN', 'carry': 'VB', 'merchandise': 'NN', 'fourthquarter': 'NN', 'better': 'JJR', 'pleased': 'VBD', 'announcing': 'VBG', 'store': 'NN', 'openings': 'NNS', 'planned': 'VBN', '1990': 'CD', 'ending': 'VBG', 'stepped-up': 'JJ', 'Linda': 'NNP', 'Kristiansen': 'NNP', 'Dean': 'NNP', 'Witter': 'NNP', 'Reynolds': 'NNP', 'interview': 'NN', 'Intermec': 'NNP', 'maker': 'NN', 'optical': 'JJ', 'character-recognition': 'NN', 'devices': 'NNS', 'guarantee': 'NN', 'MCI': 'NNP', 'Communications': 'NNPS', '5\\\\/8': 'CD', '3\\\\/8': 'CD', '4.7': 'CD', 'giant': 'NN', '63': 'CD', 'CoreStates': 'NNP', 'slipped': 'VBD', '43': 'CD', '1\\\\/8': 'CD', 'active': 'JJ', 'reporting': 'VBG', 'improved': 'VBN', '1.27': 'CD', '1.15': 'CD', '177.3': 'CD', '154': 'CD', 'A&W': 'NNP', 'Brands': 'NNP', 'thirdquarter': 'JJ', '18': 'CD', 'Associates': 'NNP', 'leases': 'VBZ', 'Jelenic': 'NNP', '39': 'CD', 'closely': 'RB', 'publisher': 'NN', 'post': 'NN', 'vacant': 'JJ', 'Ralph': 'NNP', 'II': 'NNP', 'responsibilities': 'NNS', 'Wilpers': 'NNP', 'remains': 'VBZ', 'recently': 'RB', 'launched': 'VBN', 'St.': 'NNP', 'Louis': 'NNP', 'Sun': 'NNP', 'Also': 'RB', 'Jean': 'NNP', 'B.': 'NNP', 'Clifton': 'NNP', 'treasurer': 'NN', 'Applebaum': 'NNP', 'Ms.': 'NNP', 'Certainly': 'RB', 'conservative': 'JJ', 'environmentalists': 'NNS', 'differentiating': 'VBG', 'Old': 'NNP', 'Environmentalism': 'NNP', 'Journalists': 'NNS', 'Others': 'NNS', 'Saving': 'VBG', 'Planet': 'NNP', 'Brooks': 'NNP', 'page': 'NN', 'Oct.': 'NNP', 'microbe': 'NN', 'hunters': 'NNS', 'sanitationists': 'NNS', 'improvements': 'NNS', 'hygiene': 'NN', 'possible': 'JJ', 'affordable': 'JJ', 'soap': 'NN', 'washable': 'JJ', 'underwear': 'NN', 'Revolution': 'NNP', 'Then': 'RB', 'cast-iron': 'NN', 'sewer': 'NN', 'pipe': 'NN', 'flush': 'JJ', 'toilet': 'NN', 'sewage': 'NN', 'water-treatment': 'NN', 'plants': 'NNS', '19th': 'JJ', 'century': 'NN', 'Medicine': 'NNP', 'dedicated': 'VBN', 'mostly': 'RB', 'combating': 'VBG', 'sepsis': 'NN', 'diagnostic': 'JJ', 'analysis': 'NN', '20th': 'JJ', 'evolution': 'NN', 'private-sector': 'JJ', 'wonder': 'NN', 'promulgated': 'VBD', 'therapy': 'NN', 'dramatically': 'RB', 'expectancy': 'NN', 'eliminated': 'VBN', 'pain': 'NN', 'constantly': 'RB', 'well-being': 'NN', 'public-health': 'JJ', 'handled': 'VBN', '1962': 'CD', 'publication': 'NN', 'Rachel': 'NNP', 'Carson': 'NNP', 'Silent': 'NNP', 'Spring': 'NNP', 'Shortly': 'RB', 'thereafter': 'RB', 'hysterical': 'JJ', 'articles': 'NNS', 'appear': 'VB', 'predicting': 'VBG', 'societies': 'NNS', 'produce': 'VB', 'blackened': 'VBN', 'uninhabitable': 'JJ', 'planet': 'NN', 'possibly': 'RB', 'apocalyptic': 'JJ', 'predictions': 'NNS', 'stalwarts': 'NNS', 'Paul': 'NNP', 'Ehrlich': 'NNP', 'Barry': 'NNP', 'Commoner': 'NNP', 'Rene': 'NNP', 'Dubois': 'NNP', 'Wald': 'NNP', 'Writing': 'VBG', '1960s': 'CD', 'earth': 'NN', 'predicted': 'VBD', 'unprecedented': 'JJ', 'famine': 'NN', 'Thousands': 'NNS', 'chemical': 'NN', 'categorized': 'VBN', 'carcinogenic': 'JJ', 'recommendations': 'NNS', 'banned': 'VBN', 'use': 'NN', 'produced': 'VBN', 'malignant': 'JJ', 'tumors': 'NNS', 'overdosed': 'VBN', 'rats': 'NNS', 'Unknown': 'JJ', 'inconclusive': 'JJ', 'effects': 'NNS', 'acid': 'NN', 'rain': 'NN', 'greenhouse': 'NN', 'ozone': 'NN', 'depletion': 'NN', 'required': 'VBD', 'burgeoning': 'VBG', 'gargantuan': 'JJ', 'Meanwhile': 'RB', 'Environmentalists': 'NNS', 'systematically': 'RB', 'opposed': 'VBN', 'methods': 'NNS', 'Local': 'JJ', 'pollution': 'NN', 'require': 'VB', 'energy': 'NN', 'solution': 'NN', 'oppose': 'VB', 'wealth': 'NN', 'creation': 'NN', 'claim': 'VB', 'depletes': 'VBZ', 'nuclear': 'JJ', 'counteract': 'VB', 'forefront': 'NN', 'opposing': 'VBG', 'search': 'NN', 'landfills': 'NNS', 'incineration': 'NN', 'research': 'NN', 'genetic': 'JJ', 'engineering': 'NN', 'emotional': 'JJ', 'proven': 'VBN', 'improving': 'VBG', 'quality': 'NN', 'bid': 'NN', 'Let': 'VB', 'rationalize': 'VB', 'priorities': 'NNS', 'solving': 'VBG', 'heretofore': 'RB', 'Lee': 'NNP', 'Smith': 'NNP', 'Alpharetta': 'NNP', 'Ga': 'NNP', 'Your': 'PRP$', 'missed': 'VBD', 'points': 'NNS', 'conference': 'NN', 'Global': 'NNP', 'Environment': 'NNP', 'Are': 'VBP', 'Overreacting': 'VBG', 'foremost': 'JJ', 'vignettes': 'NNS', 'presented': 'VBD', 'various': 'JJ', 'scientists': 'NNS', 'consensus': 'NN', 'specialists': 'NNS', 'respective': 'JJ', 'aspects': 'NNS', 'environment': 'NN', 'Consider': 'VB', 'change': 'NN', 'blue-ribbon': 'JJ', 'scientific': 'JJ', 'Science': 'NNP', 'judge': 'NN', 'probability': 'NN', 'grave': 'JJ', 'offing': 'NN', 'answer': 'VB', 'title': 'NN', 'stories': 'NNS', 'Nor': 'CC', 'dictate': 'VB', 'prescriptive': 'JJ', 'solutions': 'NNS', 'Each': 'DT', 'speaker': 'NN', 'address': 'VB', 'specific': 'JJ', 'topic': 'NN', 'deliver': 'VB', 'scientist': 'NN', 'independently': 'RB', 'concluded': 'VBD', 'society': 'NN', 'underreacting': 'VBG', 'substantive': 'JJ', 'leads': 'VBZ', 'sense': 'NN', 'urgency': 'NN', 'media': 'NNS', 'decide': 'VBP', 'harder': 'JJR', 'educating': 'VBG', 'public': 'JJ', 'complex': 'JJ', 'technical': 'JJ', 'termed': 'VBN', 'non-objective': 'JJ', 'journalism': 'NN', 'normal': 'JJ', 'business-as-usual': 'JJ', 'increments': 'NNS', 'literally': 'RB', 'altered': 'VBN', 'chemistry': 'NN', 'physics': 'NN', 'atmosphere': 'NN', 'portends': 'VBZ', 'consequences': 'NNS', 'destabilizing': 'VBG', 'interrelated': 'VBN', 'inextricably': 'RB', 'entwined': 'VBN', 'current': 'JJ', 'unlikely': 'JJ', 'able': 'JJ', 'unless': 'IN', 'community': 'NN', 'sufficient': 'JJ', 'evidence': 'NN', 'advise': 'VB', 'No': 'DT', 'overreacting': 'VBG', 'Lovejoy': 'NNP', 'External': 'NNP', 'Affairs': 'NNP', 'Smithsonian': 'NNP', 'Institution': 'NNP', 'Coca-Cola': 'NNP', 'Enterprises': 'NNPS', 'fulfilling': 'VBG', 'dismal': 'JJ', 'forecast': 'NN', '68': 'CD', 'Stung': 'VBN', 'marketing': 'VBG', 'costs': 'NNS', 'volume': 'NN', 'Coke': 'NNP', 'bottling': 'NN', '12.7': 'CD', '39.9': 'CD', 'met': 'VBD', 'slashed': 'VBN', 'projections': 'NNS', 'tumble': 'VB', '37': 'CD', 'spokesman': 'NN', 'sticks': 'NNS', '1.02': 'CD', 'year-ago': 'JJ', 'December': 'NNP', 'Excluding': 'VBG', 'measured': 'VBN', 'soda': 'NN', 'below': 'IN', '4': 'CD', 'soft-drink': 'NN', 'blamed': 'VBN', 'Consumers': 'NNS', 'accustomed': 'VBN', 'soft-drinks': 'NNS', 'discounted': 'VBN', 'trade': 'NN', 'dealer': 'NN', 'incentives': 'NNS', 'keep': 'VB', 'volumes': 'NNS', 'expects': 'VBZ', 'consumers': 'NNS', 'adjust': 'VB', 'higher-priced': 'JJ', 'soft': 'JJ', 'drinks': 'NNS', 'bulk': 'NN', '14': 'CD', '324.9': 'CD', 'promoting': 'VBG', 'crazy': 'JJ', 'Roy': 'NNP', 'Burry': 'NNP', '65': 'CD', '93.8': 'CD', '2.97': 'CD', '49%-owned': 'JJ', 'repurchased': 'VBD', '1.2': 'CD', '25-million-share': 'JJ', 'repurchase': 'NN', 'acquired': 'VBD', '9.7': 'CD', 'Separately': 'RB', 'Purchase': 'NNP', 'N.Y.-based': 'JJ', 'PepsiCo': 'NNP', '269.3': 'CD', '241.6': 'CD', '91': 'CD', '3.90': 'CD', '3.13': 'CD', 'after-tax': 'JJ', '5.9': 'CD', 'winery': 'NN', 'Spain': 'NNP', '16.375': 'CD', '62.5': 'CD', '58.50': 'CD', '1.375': 'CD', 'L.J.': 'NNP', 'Hooker': 'NNP', 'principle': 'NN', 'sell': 'VB', 'Merksamer': 'NNP', 'Jewelers': 'NNPS', 'familiar': 'JJ', 'talks': 'NNS', 'Atlanta': 'NNP', 'Chapter': 'NN', 'bankruptcy': 'NN', 'Currently': 'RB', 'Sydney': 'NNP', 'Australia': 'NNP', 'court-appointed': 'JJ', 'liquidator': 'NN', 'GE': 'NNP', 'financial-services': 'NNS', 'Electric': 'NNP', 'funding': 'NN', 'proposed': 'VBN', 'leveraged': 'JJ', 'Sacramento': 'NNP', 'Calif': 'NNP', 'emergency': 'NN', 'receivables': 'NN', 'Altman': 'NNP', 'Bonwit': 'NNP', 'Teller': 'NNP', 'fully': 'RB', 'owned': 'VBN', 'department-store': 'NN', 'chains': 'NNS', 'Sam': 'NNP', 'nationwide': 'JJ', 'jewelry': 'NN', 'chain': 'NN', 'Sigoloff': 'NNP', '80': 'CD', 'stores': 'NNS', 'Today': 'NN', '77': 'CD', 'located': 'VBN', 'shopping': 'NN', 'malls': 'NNS', 'approached': 'VBN', 'suppliers': 'NNS', 'letters': 'NNS', 'intent': 'NN', 'shipping': 'VBG', 'retail': 'JJ', 'buyouts': 'NNS', 'causing': 'VBG', 'jitters': 'NNS', 'apparently': 'RB', 'assurances': 'NNS', 'delivery': 'NN', '62': 'CD', '2.5': 'CD', 'jewelery': 'NN', 'bidders': 'NNS', 'Ratners': 'NNP', 'PLC': 'NNP', 'London': 'NNP', 'Kay': 'NNP', 'advising': 'VBG', 'series': 'NN', 'acquisitions': 'NNS', 'founded': 'VBN', '1929': 'CD', 'brothers': 'NNS', 'Walter': 'NNP', 'DeVon': 'NNP', 'pair': 'NN', 'split': 'NN', 'half': 'PDT', 'agreeing': 'VBG', 'operate': 'VB', 'Jewelery': 'NNP', 'subject': 'NN', 'approval': 'NN', 'Judge': 'NNP', 'Tina': 'NNP', 'Brozman': 'NNP', 'Bankruptcy': 'NNP', 'Court': 'NNP', '409': 'CD', 'consortium': 'NN', 'Honolulu': 'NNP', 'investor': 'NN', 'Jay': 'NNP', 'Shidler': 'NNP', 'A.': 'NNP', 'Boyd': 'NNP', 'Simpson': 'NNP', 'developer': 'NN', 'Regal': 'NNP', 'Universal-Rundle': 'NNP', 'RBS': 'NNP', 'Industries': 'NNP', 'Carlson': 'NNP', 'assume': 'VB', 'vitreous-china': 'NN', 'numbered': 'VBN', 'animated': 'JJ', 'featuring': 'VBG', 'Alf': 'NNP', 'Karate': 'NNP', 'Kid': 'NNP', 'Chipmunks': 'NNPS', 'NBC': 'NNP', 'morning': 'NN', 'prime-time': 'JJ', 'also-ran': 'NN', 'Saturday': 'NNP', 'mornings': 'NNS', 'rule': 'VBP', 'TV': 'NN', 'contemplating': 'VBG', 'getting': 'VBG', 'cartoon': 'NN', 'counterprogram': 'VB', 'audience': 'NN', 'ignored': 'VBN', 'adults': 'NNS', 'talk': 'VB', 'revamping': 'VBG', 'certainly': 'RB', 'heading': 'VBG', 'animation': 'NN', 'S.': 'NNP', 'Cicero': 'NNP', 'finance': 'NN', 'Broadcasting': 'NNP', 'Entertainment': 'NNP', 'Brandon': 'NNP', 'Tartikoff': 'NNP', 'interviewed': 'VBN', 'schedule': 'NN', 'mid-season': 'NN', 'elaborate': 'VB', 'range': 'VB', 'news-oriented': 'JJ', 'programming': 'NN', 'affiliate': 'NN', 'KCRA': 'NNP', 'line-up': 'NN', 'replace': 'VB', 'newscast': 'NN', 'one-hour': 'JJ', 'updates': 'NNS', 'feel': 'VBP', 'opportunity': 'NN', 'manager': 'NN', 'Kueneke': 'NNP', 'cartoons': 'NNS', 'anymore': 'RB', 'station': 'NN', 'revenues': 'NNS', 'defect': 'VB', 'Spokesmen': 'NNS', 'networks': 'NNS', 'CBS': 'NNP', 'Cities\\\\/ABC': 'NNP', 'alter': 'VB', 'youthful': 'JJ', 'dependent': 'JJ', 'syndicated': 'VBN', 'independent': 'JJ', 'videocassettes': 'NNS', 'outlets': 'NNS', 'Nickelodeon': 'NNP', 'Disney': 'NNP', 'Channel': 'NNP', 'System': 'NNP', 'Cable': 'NNP', 'News': 'NNP', 'Network': 'NNP', 'highest': 'JJS', 'ratings': 'NNS', 'outside': 'IN', 'prime': 'JJ', 'occasions': 'NNS', 'replacing': 'VBG', 'version': 'NN', 'Productions': 'NNPS', 'supplies': 'VBZ', 'half-hour': 'NN', 'family-oriented': 'JJ', 'titled': 'VBN', 'Saved': 'NNP', 'Bell': 'NNP', 'Animated': 'JJ', '300,000': 'CD', 'Rohm': 'NNP', 'Haas': 'NNP', 'skidded': 'VBD', '32.6': 'CD', 'year-earlier': 'JJ', 'chemicals': 'NNS', '49.8': 'CD', '623': 'CD', '0.5': 'CD', '619.8': 'CD', 'start': 'VB', 'seven': 'CD', 'slide': 'NN', 'partly': 'RB', 'start-up': 'JJ', 'cited': 'VBD', 'cuts': 'VBZ', 'value': 'NN', 'overseas': 'JJ', 'translated': 'VBN', 'dollars': 'NNS', 'hurt': 'VBN', 'previous-year': 'JJ', 'raw': 'JJ', 'materials': 'NNS', 'Incrementally': 'RB', 'heavy': 'JJ', 'forced': 'VBN', 'overtime': 'NN', '155': 'CD', '2.33': 'CD', '17': 'CD', '187.8': 'CD', '2.82': 'CD', '5.2': 'CD', '2.04': 'CD', '1.94': 'CD', '1.75': 'CD', 'Gaskin': 'NNP', 'manufacturer': 'NN', 'robots': 'NNS', 'succeeding': 'VBG', 'K.': 'NNP', 'Weisel': 'NNP', 'Wallace': 'NNP', 'formerly': 'RB', 'Taylor': 'NNP', 'Prab': 'NNP', 'Robots': 'NNP', 'N.': 'NNP', 'Wertheimer': 'NNP', 'Tokyo': 'NNP', '38': 'CD', 'Meyers': 'NNP', 'written': 'VBN', 'correct': 'VB', 'misquotation': 'NN', 'article': 'NN', 'Deaths': 'NNP', 'Colon': 'NNP', 'Can': 'MD', 'Be': 'VB', 'Reduced': 'NNP', 'Using': 'VBG', 'Two': 'CD', 'Drugs': 'NNS', 'alleged': 'VBN', 'Any': 'DT', 'patient': 'NN', 'high-risk': 'JJ', 'colon': 'NN', 'really': 'RB', 'shrift': 'NN', \"'m\": 'VBP', 'totally': 'RB', 'philosophy': 'NN', 'expressed': 'VBN', 'quote': 'NN', 'levamisole': 'NN', '5-fluorouracil': 'JJ', 'colon-cancer': 'NN', 'patients': 'NNS', 'With': 'IN', 'treatment': 'NN', 'deaths': 'NNS', 'one-third': 'NN', 'leaves': 'VBZ', 'two-thirds': 'NNS', 'dying': 'VBG', 'physician': 'NN', 'truly': 'RB', 'cares': 'VBZ', 'today': 'NN', 'tomorrow': 'NN', 'verbatim': 'RB', 'printed': 'VBN', 'text': 'NN', 'reporters': 'NNS', 'attending': 'VBG', 'clinical': 'JJ', 'trials': 'NNS', 'seeking': 'VBG', 'protocols': 'NNS', 'exciting': 'JJ', 'prospects': 'NNS', 'impressive': 'JJ', 'advances': 'NNS', 'immediately': 'RB', 'never': 'RB', 'stopping': 'VBG', 'Moertel': 'NNP', 'M.D': 'NNP', 'Mayo': 'NNP', 'Clinic': 'NNP', 'Rochester': 'NNP', 'Minn': 'NNP', 'oil': 'NN', 'industries': 'NNS', 'united': 'VBN', 'dislike': 'NN', 'cars': 'NNS', 'fuels': 'NNS', 'announced': 'VBD', 'joint': 'JJ', 'cleaner-burning': 'JJ', 'gasoline': 'NN', 'Officials': 'NNS', 'petroleum': 'NN', 'setting': 'VBG', 'cost-effective': 'JJ', 'reducing': 'VBG', 'cities': 'NNS', 'air-pollution': 'NN', 'bias': 'NN', 'particular': 'NN', 'notably': 'RB', 'gas': 'NN', 'pure': 'JJ', 'methanol': 'NN', 'front-running': 'JJ', 'tests': 'NNS', 'completed': 'VBN', 'summer': 'NN', 'heavily': 'RB', 'blends': 'NNS', 'undeveloped': 'JJ', 'touting': 'VBG', 'automobile': 'NN', 'choking': 'VBG', 'urban': 'JJ', 'areas': 'NNS', 'criticized': 'VBD', 'public-relations': 'NNS', '1997': 'CD', 'experimenting': 'VBG', 'Atlantic': 'NNP', 'Richfield': 'NNP', 'lower-emission': 'NN', 'leaded': 'JJ', 'conduct': 'VB', 'extensive': 'JJ', 'testing': 'NN', 'reformulated': 'VBN', 'gasolines': 'NNS', 'Joe': 'NNP', 'Colucci': 'NNP', 'lubricants': 'NNS', 'Motors': 'NNPS', 'laboratories': 'NNS', 'compare': 'VB', '21': 'CD', 'mixtures': 'NNS', 'phase': 'NN', 'test': 'VB', 'engine': 'NN', 'technologies': 'NNS', 'developed': 'VBN', '1992': 'CD', '1993': 'CD', 'here': 'RB', 'customers': 'NNS', 'Keith': 'NNP', 'McHenry': 'NNP', 'Amoco': 'NNP', 'air': 'NN', 'Hawkins': 'NNP', 'environmental': 'JJ', 'Natural': 'NNP', 'Resources': 'NNP', 'Oil': 'NNP', 'supported': 'VBD', 'Capitol': 'NNP', 'gut': 'VB', 'alternative-fueled': 'JJ', '1995': 'CD', 'subcommittee': 'NN', 'adopted': 'VBN', 'clean-fuels': 'NNS', 'specifically': 'RB', 'mentions': 'VBZ', 'Energy': 'NNP', 'Commerce': 'NNP', 'comprehensive': 'JJ', 'clean-air': 'JJ', 'bill': 'NN', 'Seidman': 'NNP', 'Deposit': 'NNP', 'Insurance': 'NNP', 'Loan': 'NNP', 'Association': 'NNP', 'seized': 'VBN', 'contain': 'VB', 'taxpayers': 'NNS', 'inherited': 'VBD', 'Irvine': 'NNP', 'regulatory': 'JJ', 'role': 'NN', 'savings-and-loan': 'JJ', 'bailout': 'NN', 'comments': 'NNS', 'Banking': 'NNP', 'hearings': 'NNS', 'thrift': 'NN', 'disaster': 'NN', 'scandal-ridden': 'JJ', 'inquiry': 'NN', 'cover': 'VB', 'Keating': 'NNP', 'Jr.': 'NNP', 'Continental': 'NNP', 'senators': 'NNS', 'committee': 'NN', 'Resolution': 'NNP', 'sick': 'JJ', 'thrifts': 'NNS', 'examination': 'NN', 'regulators': 'NNS', 'dating': 'VBG', 'indicated': 'VBD', 'findings': 'NNS', 'institutions': 'NNS', 'sought': 'VBD', 'immediate': 'JJ', 'cease-and-desist': 'JJ', 'stop': 'NN', 'hazardous': 'JJ', 'subsidiaries': 'NNS', 'until': 'IN', 'conservatorship': 'NN', 'creditors': 'NNS', 'filing': 'NN', 'charged': 'VBN', '1.1': 'CD', 'lawsuit': 'NN', 'pattern': 'NN', 'shift': 'VBP', 'insured': 'VBN', 'deposits': 'NNS', 'used': 'VBN', 'deals': 'NNS', 'transferred': 'VBN', 'jurisdiction': 'NN', 'court': 'NN', 'fairly': 'RB', 'seize': 'VB', 'Further': 'JJ', 'investigation': 'NN', 'fraud': 'NN', 'suit': 'NN', 'alleging': 'VBG', 'unlawfully': 'RB', 'Leonard': 'NNP', 'Bickwit': 'NNP', 'responding': 'VBG', 'comprehensively': 'RB', 'forums': 'NNS', 'appropriate': 'JJ', 'disbanded': 'VBN', 'embarrassing': 'JJ', 'contributions': 'NNS', 'Dennis': 'NNP', 'DeConcini': 'NNP', 'D.': 'NNP', 'Ariz.': 'NNP', '48,100': 'CD', 'phoned': 'VBD', 'push': 'VBP', 'returned': 'VBN', 'senator': 'NN', 'pushed': 'VBN', 'hundreds': 'NNS', 'Chairman': 'NNP', 'Donald': 'NNP', 'Riegle': 'NNP', 'Mich': 'NNP', 'Sens.': 'NNP', 'Glenn': 'NNP', 'Ohio': 'NNP', 'McCain': 'NNP', 'Alan': 'NNP', 'Cranston': 'NNP', 'substantial': 'JJ', 'intervene': 'VB', 'behalf': 'NN', 'Henry': 'NNP', 'Gonzalez': 'NNP', 'Texas': 'NNP', 'volunteered': 'VBD', 'necessary': 'JJ', 'member': 'NN', 'panel': 'NN', 'RTC': 'NNP', 'pumped': 'VBN', '729': 'CD', 'liquidity': 'NN', 'restitution': 'NN', 'purchasers': 'NNS', '225': 'CD', 'subordinated': 'VBD', 'debtholders': 'NNS', 'believed': 'VBD', 'government-insured': 'JJ', 'certificates': 'NNS', 'deposit': 'NN', 'Eastern': 'NNP', 'unhappy': 'JJ', 'carrier': 'NN', 'bankruptcy-law': 'NN', 'proceedings': 'NNS', 'devise': 'VB', 'alternate': 'JJ', 'approaches': 'NNS', 'reorganization': 'NN', 'Representatives': 'NNS', 'accounting': 'NN', 'Ernst': 'NNP', 'Young': 'NNP', 'securities': 'NNS', 'Goldman': 'NNP', 'Sachs': 'NNP', 'consult': 'VB', 'emerge': 'VB', 'riskier': 'JJR', 'won': 'VBN', 'person': 'NN', 'present': 'JJ', 'financially': 'RB', 'overly': 'RB', 'optimistic': 'JJ', 'consultants': 'NNS', 'disagree': 'VBP', 'She': 'PRP', 'oversimplified': 'VBN', 'erroneous': 'JJ', 'assumptions': 'NNS', 'completely': 'RB', 'off-base': 'JJ', 'Lorenzo': 'NNP', 'Air': 'NNP', 'exceeding': 'VBG', 'goals': 'NNS', 'originally': 'RB', 'negative': 'JJ', 'response': 'NN', 'discussing': 'VBG', 'amended': 'VBN', 'anticipate': 'VB', 'shortly': 'RB', 'surpassing': 'VBG', '1.8': 'CD', 'size': 'NN', 'pieces': 'NNS', 'East': 'NNP', 'Coast': 'NNP', 'shuttle': 'NN', 'Philadelphia': 'NNP', 'hub': 'NN', 'stumbling': 'VBG', 'block': 'NN', 'South': 'JJ', 'routes': 'NNS', 'marked': 'VBN', 'disposal': 'NN', 'professionals': 'NNS', 'AMR': 'NNP', 'last-minute': 'JJ', 'snag': 'NN', 'unrelated': 'JJ', 'deal': 'VB', 'decided': 'VBD', 'leave': 'VB', 'bigger': 'JJR', 'scaled-down': 'JJ', 'condition': 'NN', 'meant': 'VBD', 'previously': 'RB', 'Since': 'IN', 'revisions': 'NNS', 'analyze': 'VB', 'Both': 'DT', 'miss': 'VB', 'depreciation': 'NN', 'comfort': 'NN', 'source': 'NN', 'session': 'NN', 'Experts': 'NNS', 'mark': 'NN', '120': 'CD', '135': 'CD', 'generate': 'VB', 'anticipated': 'VBN', 'Other': 'JJ', 'maintenance': 'NN', 'fleet': 'NN', 'Phil': 'NNP', 'Bakes': 'NNP', 'rosier': 'JJR', 'Flanked': 'VBN', 'flight': 'NN', 'attendants': 'NNS', 'gate': 'NN', 'agents': 'NNS', 'dressed': 'VBN', 'spiffy': 'JJ', 'blue': 'JJ', 'uniforms': 'NNS', 'exceeded': 'VBN', 'operational': 'JJ', 'Starting': 'VBG', 'flying': 'VBG', '775': 'CD', 'flights': 'NNS', 'instead': 'RB', '700': 'CD', 'dip': 'VB', 'asset': 'NN', 'escrow': 'NN', 'accounts': 'NNS', 'hold': 'VBP', '390': 'CD', 'confirmed': 'VBN', 'remarks': 'NNS', \"'ll\": 'MD', 'come': 'VBP', 'requirement': 'NN', 'exclusive': 'JJ', 'rights': 'NNS', 'develop': 'VB', 'deadline': 'NN', 'creditor': 'NN', 'confirmation': 'NN', 'relatively': 'RB', 'swift': 'JJ', 'press': 'VB', 'ignore': 'VB', 'sides': 'NNS', 'draw': 'VB', 'crippling': 'JJ', 'strike': 'NN', 'March': 'NNP', 'pursuing': 'VBG', '90': 'CD', 'pre-bankruptcy': 'NN', 'projected': 'VBD', '1,000': 'CD', 'fewer': 'RBR', '1,050': 'CD', 'HOPES': 'NNS', 'OF': 'IN', 'SIMPLIFYING': 'VBG', 'minimum': 'JJ', 'weakening': 'VBG', 'method': 'NN', 'calculating': 'VBG', 'exceeds': 'VBZ', 'figured': 'VBD', 'regular': 'JJ', 'thanks': 'VBZ', 'agree': 'VBP', 'concept': 'NN', 'drags': 'VBZ', 'complexity': 'NN', 'Ways': 'NNS', 'Means': 'NNP', 'Rostenkowski': 'NNP', 'simplification': 'NN', 'pending': 'VBG', 'turns': 'VBZ', 'loser': 'NN', 'stripped-down': 'JJ', 'omits': 'VBZ', 'Proponents': 'NNS', 'fear': 'NN', 'chances': 'NNS', 'final': 'JJ', 'waning': 'VBG', 'hear': 'VBP', 'Samuel': 'NNP', 'Starr': 'NNP', 'Coopers': 'NNP', 'Lybrand': 'NNP', 'CPAs': 'NNS', 'staring': 'VBG', 'rules': 'NNS', 'impossible': 'JJ', 'implement': 'VB', 'calculations': 'NNS', 'Congress': 'NNP', 'legislation': 'NN', 'adds': 'VBZ', 'HUGO': 'NNP', \"'S\": 'VBZ', 'RAVAGES': 'NNS', 'claims': 'NNS', 'refunds': 'NNS', 'aids': 'VBZ', 'hurricane-wracked': 'JJ', 'locales': 'NNS', 'regions': 'NNS', 'designated': 'VBN', 'disasters': 'NNS', 'lets': 'VBZ', 'victims': 'NNS', 'elect': 'VBP', 'deduct': 'VB', 'casualty': 'NN', 'returns': 'NNS', 'whichever': 'WDT', 'benefit': 'NN', 'April': 'NNP', '16': 'CD', 'choose': 'VB', 'Amending': 'VBG', 'return': 'NN', 'refund': 'NN', 'brings': 'VBZ', 'faster': 'RBR', 'factors': 'NNS', 'consider': 'VB', 'Prentice': 'NNP', 'Hall': 'NNP', 'recoveries': 'NNS', 'deductible': 'JJ', 'exceed': 'VBP', 'gross': 'JJ', 'pick': 'VB', 'deductions': 'NNS', 'couple': 'NN', 'damaged': 'VBN', 'jointly': 'RB', 'separately': 'RB', 'spouse': 'NN', 'determine': 'VB', 'file': 'VB', 'THE': 'DT', 'DELAYS': 'VBZ', 'deadlines': 'NNS', 'Returns': 'NNS', 'six-month': 'JJ', 'extensions': 'NNS', 'penalized': 'VBN', 'postmarked': 'VBN', 'Jan.': 'NNP', 'Interest': 'NN', 'imposed': 'VBD', 'unpaid': 'JJ', 'taxes': 'NNS', 'late-payment': 'NN', 'penalties': 'NNS', 'waived': 'VBN', 'balance': 'NN', 'liability': 'NN', 'Notice': 'NN', '89-136': 'CD', 'describes': 'VBZ', 'relief': 'NN', 'Among': 'IN', 'provisions': 'NNS', 'Fiscal-year': 'JJ', 'extension': 'NN', 'Nov.': 'NNP', 'Excise-tax': 'JJ', 'delayed': 'VBN', 'Extensions': 'NNS', 'employment-tax': 'JJ', 'depositing': 'VBG', 'withheld': 'VBN', 'abated': 'VBN', 'notice': 'NN', 'grants': 'VBZ', 'estate-tax': 'JJ', 'ONE-DAY': 'JJ', 'JAUNTS': 'NNS', 'chartered': 'JJ', 'boat': 'NN', 'perks': 'NNS', 'permanent': 'JJ', 'staffers': 'NNS', 'Business': 'NNP', 'Mesa': 'NNP', 'supplier': 'NN', 'temporary': 'JJ', 'denied': 'VBD', 'temps': 'NNS', 'got': 'VBD', 'aboard': 'RB', 'Tax': 'NNP', 'limitations': 'NNS', 'reasonable': 'JJ', 'realistic': 'JJ', 'USED-CAR': 'NN', 'BUYERS': 'NNS', 'avoid': 'VB', 'understating': 'VBG', 'targets': 'NNS', 'drive': 'VB', 'Estimating': 'VBG', 'lose': 'VB', 'WHEN': 'WRB', 'AN': 'DT', 'IRA': 'NNP', 'OWNER': 'NNP', 'dies': 'VBZ', 'trustee': 'NN', 'individual': 'JJ', 'retirement': 'NN', 'forms': 'NNS', '5498': 'CD', 'values': 'NNS', 'relating': 'VBG', 'decedent': 'NN', 'beneficiary': 'NN', 'copies': 'NNS', 'executor': 'NN', 'beneficiaries': 'NNS', 'Procedure': 'NN', '89-52': 'CD', 'requirements': 'NNS', 'BIGGER': 'JJR', 'THAN': 'IN', 'BREADBOX': 'NN', 'hoarder': 'NN', 'reputation': 'NN', 'honesty': 'NN', 'cite': 'VBP', 'frugality': 'NN', 'distrust': 'NN', 'justify': 'VB', 'caches': 'NNS', 'Gregory': 'NNP', 'Damonne': 'NNP', 'Fremont': 'NNP', 'hardworking': 'JJ', 'reclusive': 'JJ', 'bachelor': 'NN', 'judges': 'NNS', 'aim': 'NN', 'escape': 'VB', 'hidden': 'VBN', 'uncovered': 'VBD', 'deposited': 'VBD', '124,732': 'CD', '1982-84': 'CD', '52,012': 'CD', 'kept': 'VBD', 'Tupperware': 'NNP', 'breadbox': 'NN', 'saved': 'VBD', '47,000': 'CD', '1974-81': 'CD', 'living': 'VBG', 'family': 'NN', 'members': 'NNS', 'pinching': 'VBG', 'pennies': 'NNS', '45,000': 'CD', 'remorseful': 'JJ', 'abandoned': 'VBN', '1955': 'CD', 'proof': 'NN', 'testimony': 'NN', 'stepmother': 'NN', 'ex-employer': 'NN', 'habits': 'NNS', 'satisfied': 'VBD', 'truthful': 'JJ', 'tale': 'NN', 'sources': 'NNS', 'taxable': 'JJ', 'Shields': 'NNP', 'rejected': 'VBD', 'BRIEFS': 'NNS', 'charitable': 'JJ', '26,350': 'CD', 'two-year': 'JJ', '46,892': 'CD', 'McFall': 'NNP', 'Bryan': 'NNP', 'understated': 'VBN', 'incredible': 'JJ', 'negligence': 'NN', 'penalty': 'NN', 'Rep.': 'NNP', 'Schaefer': 'NNP', 'Colo.': 'NNP', 'exempt': 'VB', 'rewards': 'NNS', 'criminals': 'NNS', 'Peterson': 'NNP', 'mounts': 'NNS', 'bicycle': 'NN', 'grinds': 'VBZ', 'rocky': 'JJ', 'path': 'NN', 'seemingly': 'RB', 'suitable': 'JJ', 'mountain': 'NN', 'goats': 'NNS', 'tortuous': 'JJ', 'climb': 'NN', 'rewarded': 'VBN', 'picture-postcard': 'NN', 'vista': 'NN', 'glade': 'NN', 'golden': 'JJ', 'aspens': 'NNS', 'azure': 'JJ', 'Indian-summer': 'JJ', 'sky': 'NN', 'miles': 'NNS', 'day-long': 'JJ', 'trudge': 'NN', 'hiker': 'NN', 'mere': 'JJ', 'pedaling': 'VBG', 'fat-tired': 'JJ', 'bikes': 'NNS', 'Twelve': 'CD', 'rangers': 'NNS', 'Napa': 'NNP', 'park': 'NN', 'enthusiasm': 'NN', 'speeding': 'VBG', 'bikers': 'NNS', 'accident': 'NN', 'horse': 'NN', 'spooked': 'VBN', 'trail': 'NN', 'broke': 'VBD', 'leg': 'NN', 'destroyed': 'VBN', 'fled': 'VBD', 'parks': 'NNS', 'near': 'IN', 'San': 'NNP', 'Francisco': 'NNP', 'trails': 'NNS', 'speed': 'NN', 'traps': 'NNS', 'radar': 'NN', 'guns': 'NNS', 'curb': 'VB', 'fast': 'RB', 'reckless': 'JJ', 'riding': 'NN', 'helicopters': 'NNS', 'pursuit': 'NN', 'hikers': 'NNS', 'equestrians': 'NNS', 'driven': 'VBN', 'overrun': 'VBN', 'Steve': 'NNP', 'Fiala': 'NNP', 'coordinator': 'NN', 'Bay': 'NNP', 'Regional': 'NNP', 'Park': 'NNP', 'District': 'NNP', 'fire': 'NN', 'roads': 'NNS', '65,000': 'CD', 'hilly': 'JJ', 'acres': 'NNS', 'alone': 'RB', 'controversy': 'NN', 'kicked': 'VBD', 'proliferation': 'NN', 'all-terrain': 'JJ', 'bicycles': 'NNS', 'divisive': 'JJ', 'storms': 'NNS', 'blow': 'VB', 'conservation': 'NN', 'movement': 'NN', 'memory': 'NN', 'Bikers': 'NNS', 'ardent': 'JJ', 'proclaim': 'VB', 'sport': 'NN', 'safe': 'JJ', 'fitness-promoting': 'JJ', 'nature': 'NN', 'asserting': 'VBG', 'pedal': 'VB', 'lands': 'NNS', 'numbers': 'NNS', 'safety': 'NN', 'damage': 'VBP', 'fragile': 'JJ', 'landscapes': 'NNS', 'prompted': 'VBD', 'pleas': 'NNS', 'Sierras': 'NNPS', 'Seaboard': 'NNP', 'Key': 'NNP', 'skillful': 'JJ', 'anywhere': 'RB', 'become': 'VB', 'vehicles': 'NNS', 'terror': 'NN', 'adept': 'JJ', 'bicyclist': 'NN', 'leap': 'VB', 'dead': 'JJ', 'picnic': 'NN', 'table': 'NN', 'losing': 'VBG', 'Such': 'JJ', 'skills': 'NNS', 'riders': 'NNS', 'treacherous': 'JJ', 'grades': 'NNS', 'speeds': 'NNS', '40': 'CD', 'hour': 'NN', 'thrill': 'NN', 'cyclist': 'NN', 'nightmare': 'NN', 'unsuspecting': 'JJ', 'harried': 'VBN', 'public-land': 'JJ', 'managers': 'NNS', 'increasingly': 'RB', 'shut': 'VB', 'gates': 'NNS', 'California': 'NNP', 'regional': 'JJ', 'regulations': 'NNS', 'hiking': 'VBG', 'paths': 'NNS', 'largely': 'RB', 'consigns': 'VBZ', 'motorized': 'VBN', 'states': 'NNS', 'enacted': 'VBN', 'bans': 'NNS', 'unwelcome': 'JJ', 'lenient': 'JJ', 'multiple-use': 'JJ', 'permits': 'VBZ', 'portions': 'NNS', 'popular': 'JJ', 'Pacific': 'NNP', 'Crest': 'NNP', 'Trail': 'NNP', 'Canada': 'NNP', 'Often': 'RB', 'closings': 'NNS', 'vigorous': 'JJ', 'anti-bike': 'JJ', 'lobbying': 'NN', 'politically': 'RB', 'potent': 'JJ', 'Sierra': 'NNP', 'Club': 'NNP', 'instrumental': 'JJ', 'securing': 'VBG', 'waging': 'VBG', 'all-out': 'JJ', 'beat': 'VB', 'Utah': 'NNP', 'bike': 'NN', 'cycles': 'NNS', 'federally': 'RB', 'wilderness': 'NN', 'prohibited': 'VBN', 'hard-line': 'JJ', 'stance': 'NN', 'rift': 'NN', 'organization': 'NN', '500,000': 'CD', 'Pressure': 'NN', 'club': 'NN', 'rhetoric': 'NN', 'lumps': 'VBZ', 'motorcycles': 'NNS', 'terrain-marring': 'JJ', 'off-road': 'JJ', 'insists': 'VBZ', 'ought': 'MD', 'studies': 'NNS', 'indicate': 'VBP', 'injure': 'VB', 'users': 'NNS', 'road': 'NN', 'careening': 'VBG', 'Gene': 'NNP', 'Coan': 'NNP', 'echoing': 'VBG', 'cyclists': 'NNS', 'area': 'NN', 'complains': 'VBZ', 'Langton': 'NNP', 'associate': 'JJ', 'Mountain': 'NNP', 'Biking': 'NNP', 'magazine': 'NN', 'Canoga': 'NNP', 'legions': 'NNS', 'taste': 'NN', 'backpackers': 'NNS', 'land': 'NN', 'demonstrated': 'VBD', 'appalled': 'VBN', 'suddenly': 'RB', 'enemy': 'NN', 'activists': 'NNS', 'forming': 'VBG', 'lobby': 'VB', 'undertake': 'VB', 'Concerned': 'NNP', 'Off-Road': 'NNP', 'Bicyclists': 'NNPS', 'petition': 'NN', 'drives': 'NNS', 'Santa': 'NNP', 'Monica': 'NNP', 'Montana': 'NNP', 'Idaho': 'NNP', 'Michigan': 'NNP', 'Massachusetts': 'NNP', 'Tim': 'NNP', 'Blumenthal': 'NNP', 'Bicycling': 'NNP', 'biker': 'NN', 'Francisco-area': 'JJ', 'ranger': 'NN', 'clobbered': 'VBN', 'formed': 'VBN', 'volunteer': 'NN', 'patrol': 'NN', 'proper': 'JJ', 'etiquette': 'NN', 'staunch': 'JJ', 'concede': 'VBP', 'renegade': 'NN', 'simply': 'RB', 'scorn': 'NN', 'reflects': 'VBZ', 'ignorance': 'NN', 'corrected': 'VBN', 'peer': 'NN', 'Jim': 'NNP', 'Hasenauer': 'NNP', 'progress': 'NN', 'foreseen': 'VBN', 'furor': 'NN', 'Marin': 'NNP', 'enthusiasts': 'NNS', 'hybrid': 'JJ', 'using': 'VBG', 'fat': 'JJ', 'tires': 'NNS', 'lightweight': 'JJ', 'metallurgy': 'NN', 'multi-gear': 'JJ', 'machine': 'NN', 'rugged': 'JJ', 'terrain': 'NN', 'inaccessible': 'JJ', 'responsive': 'JJ', 'stable': 'JJ', 'ride': 'VB', 'thin-tired': 'JJ', 'racing': 'VBG', 'rage': 'NN', 'mass': 'NN', '1981': 'CD', 'fad': 'NN', 'Last': 'JJ', 'bellwether': 'NN', 'majority': 'NN', 'dwellers': 'NNS', 'love': 'VBP', 'smoothly': 'RB', 'traffic': 'NN', 'bounce': 'VB', 'easily': 'RB', 'curbs': 'NNS', 'roll': 'NN', 'glass': 'NN', 'Crested': 'NNP', 'Butte': 'NNP', '1,200': 'CD', 'bastion': 'NN', 'town': 'NN', 'home': 'NN', 'Bike': 'NNP', 'Fame': 'NNP', 'Fat': 'NNP', 'Tire': 'NNP', 'Week': 'NNP', 'jamboree': 'NN', 'attracted': 'VBN', 'visitors': 'NNS', 'busiest': 'JJS', 'winter': 'NN', 'ski': 'NN', 'season': 'NN', 'Lindsey': 'NNP', 'celebration': 'NN', 'muses': 'VBZ', 'popularity': 'NN', 'combination': 'NN', 'nostalgia': 'NN', 'feels': 'VBZ', '`': '``', 'paperboy': 'NN', 'kid': 'NN', 'Securities': 'NNP', 'Commission': 'NNP', 'Nova': 'NNP', 'Scotia': 'NNP', 'shelf': 'NN', 'offering': 'NN', '550': 'CD', 'debentures': 'NNS', 'Golar': 'NNP', 'Gas': 'NNP', 'Holding': 'NNP', 'Gotaas-Larsen': 'NNP', 'Shipping': 'NNP', '280': 'CD', 'preferred': 'JJ', 'ship': 'NN', 'via': 'IN', 'Merrill': 'NNP', 'Lynch': 'NNP', 'Markets': 'NNPS', 'H.F.': 'NNP', 'Ahmanson': 'NNP', 'noncumulative': 'JJ', 'convertible': 'JJ', 'Series': 'NNP', 'Shared': 'NNP', 'Technologies': 'NNP', 'Smetek': 'NNP', 'Horn': 'NNP', 'Cormack': 'NNP', 'Oakes': 'NNP', 'Fitzwilliams': 'NNP', 'Stock-market': 'NN', 'tremors': 'NNS', 'shook': 'VBD', 'bond': 'NN', 'mixed': 'VBN', 'scrambled': 'VBD', 'Treasury': 'NNP', 'bonds': 'NNS', 'plummeted': 'VBD', 'fears': 'VBZ', 'replay': 'NN', 'erasing': 'VBG', 'moderately': 'RB', 'levels': 'NNS', 'Dow': 'NNP', 'Jones': 'NNP', 'Average': 'NNP', '60.25': 'CD', '18.65': 'CD', '2638.73': 'CD', 'Long-term': 'NNP', 'amount': 'NN', 'clearly': 'RB', 'Conlon': 'NNP', 'Nikko': 'NNP', 'breathing': 'VBG', 'sigh': 'NN', 'Gold': 'NNP', 'watched': 'VBN', 'anxiety': 'NN', 'initially': 'RB', 'currencies': 'NNS', 'deficit': 'NN', 'surged': 'VBD', '10.77': 'CD', 'rebounded': 'VBD', 'finishing': 'VBG', 'yen': 'NN', 'signal': 'NN', 'determination': 'NN', 'shore': 'VB', 'confidence': 'NN', 'lid': 'NN', 'gesture': 'NN', 'reluctant': 'JJ', 'bold': 'JJ', 'does': 'VBZ', 'key': 'JJ', 'one-quarter': 'NN', 'percentage': 'NN', 'funds': 'NNS', 'overnight': 'JJ', 'hovering': 'VBG', 'predict': 'VBP', 'reverse': 'VB', 'huge': 'JJ', 'wave': 'NN', 'borrowing': 'NN', 'coupled': 'VBN', 'corporate-earnings': 'NNS', 'comparisons': 'NNS', 'trouble': 'NN', 'equity': 'NN', 'contend': 'VBP', 'overreacted': 'VBN', 'junk-bond': 'NN', 'recover': 'VB', 'shot': 'NN', 'orchestra': 'NN', 'piano': 'NN', 'player': 'NN', 'note': 'NN', 'Laszlo': 'NNP', 'Birinyi': 'NNP', 'yield': 'NN', '30-year': 'NNP', 'climbed': 'VBD', 'above': 'IN', '8.03': 'CD', 'Late': 'JJ', '142.75': 'CD', '141.80': 'CD', '1.8667': 'CD', 'marks': 'NNS', '1.8685': 'CD', 'Consumer': 'NNP', 'Report': 'NNP', 'venture': 'NN', 'versions': 'NNS', 'Sunday': 'NNP', 'evening': 'NN', 'prior': 'RB', 'release': 'NN', 'CNBC': 'NNP', 'Cablevision': 'NNP', 'Advertisers': 'NNS', 'ad': 'NN', 'guides': 'NNS', 'Homeowner': 'NNP', 'Guide': 'NNP', 'themes': 'NNS', 'colleges': 'NNS', 'investments': 'NNS', 'background': 'NN', 'Skoal': 'NNP', 'Daze': 'NNP', 'hard': 'JJ', 'too': 'RB', 'booze': 'NN', 'Takes': 'VBZ', 'revenge': 'NN', 'drink': 'VBP', 'mine': 'VB', '!': '.', 'O.': 'NNP', 'Ludcke': 'NNP', 'Spaced': 'NNP', 'Out': 'IN', 'supermarket': 'NN', 'tabloids': 'NNS', 'Make': 'VBP', 'me': 'PRP', 'Because': 'IN', 'Bruce': 'NNP', 'Kafaroff': 'NNP', 'Daffynition': 'NN', 'Repression': 'NN', 'emote': 'VB', 'Daisy': 'NNP', 'Weyerhaeuser': 'NNP', 'one-time': 'JJ', 'wood-product': 'NN', 'pulp': 'NN', 'jump': 'NN', '166.8': 'CD', '78': 'CD', 'forest-products': 'NNS', '144.9': 'CD', '2.57': 'CD', '2.36': 'CD', '469.8': 'CD', '2.21': 'CD', '410.3': 'CD', '1.95': 'CD', '7.54': 'CD', '6.95': 'CD', 'pretax': 'JJ', 'refocusing': 'NN', 'Forest-products': 'NNS', 'strengthened': 'VBN', 'dogged': 'VBN', 'newsprint': 'NN', 'Japanese': 'JJ', 'competing': 'VBG', 'firms': 'NNS', 'full-year': 'JJ', 'pricing': 'NN', 'Looking': 'VBG', 'fourth': 'JJ', 'export': 'NN', 'log': 'NN', 'lumber': 'NN', 'plywood': 'NN', 'Pulp': 'NNP', 'variables': 'NNS', 'Bankers': 'NNP', 'less-developed': 'JJ', '1.6': 'CD', 'provision': 'NN', '1.42': 'CD', 'Third': 'NNP', '2.6': 'CD', 'medium': 'NN', 'long-term': 'JJ', 'Step': 'NN', 'plate': 'NN', 'swing': 'NN', 'Get': 'VB', 'behind': 'IN', 'James': 'NNP', 'McDermott': 'NNP', 'Keefe': 'NNP', 'Bruyette': 'NNP', 'Woods': 'NNP', 'approving': 'VBG', 'Citicorp': 'NN', 'bit': 'NN', 'disappointing': 'JJ', '789': 'CD', 'adding': 'VBG', '950': 'CD', 'Wells': 'NNP', 'Fargo': 'NNP', 'PNC': 'NNP', 'Pittsburgh': 'NNP', '9.8': 'CD', 'Banc': 'NNP', 'Columbus': 'NNP', '3.8': 'CD'}\n"
     ]
    }
   ],
   "source": [
    "# Dictionary building \n",
    "dico = dict()\n",
    "# YOUR CODE HERE\n",
    "for doc in alldocs:\n",
    "    for i in range(len(doc)):\n",
    "        word,POS=doc[i]\n",
    "        dico[word]=POS\n",
    "\n",
    "print(dico)\n"
   ]
  },
  {
   "cell_type": "markdown",
   "metadata": {},
   "source": [
    "**Note: on the test set, there are unknown words...**. We will use the following simple strategy: \n",
    "```\n",
    "# remplace\n",
    "dico[cle] # crashing with an unknown key \n",
    "# by \n",
    "dico.get(cle, DefaultValue)\n",
    "```\n",
    "From a linguistic point of view, we can choose the default value as the majority PoS class, producing a stronger baseline."
   ]
  },
  {
   "cell_type": "code",
   "execution_count": 14,
   "metadata": {},
   "outputs": [
    {
     "name": "stdout",
     "output_type": "stream",
     "text": [
      "1433 1896 0.755801687763713\n"
     ]
    }
   ],
   "source": [
    "# Evaluate test performances\n",
    "\n",
    "# TODO\n",
    "rate=0\n",
    "compteur=0\n",
    "for doc in alldocsT:\n",
    "    for i in range(len(doc)):\n",
    "        word,POS=doc[i]\n",
    "        predicted_POS=dico.get(word,0)\n",
    "        compteur+=1\n",
    "        if predicted_POS==POS:\n",
    "            rate+=1\n",
    "\n",
    "print(rate,compteur,rate/compteur)"
   ]
  },
  {
   "cell_type": "markdown",
   "metadata": {},
   "source": [
    "Check: 1433 good predictions in test over 1896\n",
    "\n",
    "(1527 with 'NN' as default PoS value)"
   ]
  },
  {
   "cell_type": "markdown",
   "metadata": {},
   "source": [
    "## HMMs\n",
    "\n",
    "Here is a code for training HMM parameters and running decoding using the Viterbi algorithm. You should apply it to our PoS task. **N.B.: you should undersand the ```eps``` parmaters**.\n"
   ]
  },
  {
   "cell_type": "code",
   "execution_count": 43,
   "metadata": {},
   "outputs": [],
   "source": [
    "# allx: list of observation sequences \n",
    "# allq: list os state sequences \n",
    "# N: nb states\n",
    "# K: nb observations\n",
    "\n",
    "def learnHMM(allx, allq, N, K, initTo1=True):\n",
    "    if initTo1:\n",
    "        eps = 1e-1 # You can play with this regularization parameter \n",
    "        A = np.ones((N,N))*eps\n",
    "        B = np.ones((N,K))*eps\n",
    "        Pi = np.ones(N)*eps\n",
    "    else:\n",
    "        A = np.zeros((N,N))\n",
    "        B = np.zeros((N,K))\n",
    "        Pi = np.zeros(N)\n",
    "    for x,q in zip(allx,allq):\n",
    "        Pi[int(q[0])] += 1\n",
    "        for i in range(len(q)-1):\n",
    "            A[int(q[i]),int(q[i+1])] += 1\n",
    "            B[int(q[i]),int(x[i])] += 1\n",
    "        B[int(q[-1]),int(x[-1])] += 1 # last transition\n",
    "    A = A/np.maximum(A.sum(1).reshape(N,1),1) # normalisation\n",
    "    B = B/np.maximum(B.sum(1).reshape(N,1),1) # normalisation\n",
    "    Pi = Pi/Pi.sum()\n",
    "    return Pi , A, B\n",
    "\n",
    "def viterbi(x,Pi,A,B):\n",
    "    T = len(x)\n",
    "    N = len(Pi)\n",
    "    logA = np.log(A)\n",
    "    logB = np.log(B)\n",
    "    logdelta = np.zeros((N,T))\n",
    "    psi = np.zeros((N,T), dtype=int)\n",
    "    S = np.zeros(T)\n",
    "    logdelta[:,0] = np.log(Pi) + logB[:,int(x[0])]\n",
    "    #forward\n",
    "    for t in range(1,T):\n",
    "        logdelta[:,t] = (logdelta[:,t-1].reshape(N,1) + logA).max(0) + logB[:,int(x[t])]\n",
    "        psi[:,t] = (logdelta[:,t-1].reshape(N,1) + logA).argmax(0)\n",
    "    # backward\n",
    "    logp = logdelta[:,-1].max()\n",
    "    S[T-1] = logdelta[:,-1].argmax()\n",
    "    for i in range(2,T+1):\n",
    "        S[int(T-i)] = psi[int(S[int(T-i+1)]),int(T-i+1)]\n",
    "    return S, logp #, delta, psi\n",
    " "
   ]
  },
  {
   "cell_type": "markdown",
   "metadata": {},
   "source": [
    "### Data encoding\n",
    "\n",
    "We will map each word to an index for traing the HMM (see code below):\n",
    "```\n",
    " The cat is in the garden => 1 2 3 4 1 5\n",
    "```\n",
    "We have to understand the dictionary functionning to retrieve the words corresponding to indices."
   ]
  },
  {
   "cell_type": "code",
   "execution_count": 44,
   "metadata": {},
   "outputs": [
    {
     "name": "stdout",
     "output_type": "stream",
     "text": [
      "['$' \"''\" '(' ')' ',' '.' ':' 'CC' 'CD' 'DT' 'EX' 'FW' 'IN' 'JJ' 'JJR'\n",
      " 'JJS' 'MD' 'NN' 'NNP' 'NNPS' 'NNS' 'PDT' 'POS' 'PRP' 'PRP$' 'RB' 'RBR'\n",
      " 'RBS' 'RP' 'TO' 'UH' 'VB' 'VBD' 'VBG' 'VBN' 'VBP' 'VBZ' 'WDT' 'WP' 'WP$'\n",
      " 'WRB' '``']\n",
      "4570 42  in the dictionary\n"
     ]
    }
   ],
   "source": [
    "# alldocs etant issu du chargement des données\n",
    "# la mise en forme des données est fournie ici\n",
    "# afin de produire des analyses qualitative, vous devez malgré tout comprendre le fonctionnement des dictionnaires\n",
    "\n",
    "buf = [[m for m,pos in d ] for d in alldocs]\n",
    "mots = []\n",
    "[mots.extend(b) for b in buf]\n",
    "mots = np.unique(np.array(mots))\n",
    "nMots = len(mots)+1 # mot inconnu\n",
    "\n",
    "mots2ind = dict(zip(mots,range(len(mots))))\n",
    "mots2ind[\"UUUUUUUU\"] = len(mots)\n",
    "\n",
    "buf2 = [[pos for m,pos in d ] for d in alldocs]\n",
    "cles = []\n",
    "[cles.extend(b) for b in buf2]\n",
    "cles = np.unique(np.array(cles))\n",
    "cles2ind = dict(zip(cles,range(len(cles))))\n",
    "print(cles)\n",
    "nCles = len(cles)\n",
    "\n",
    "print(nMots,nCles,\" in the dictionary\")\n",
    "\n",
    "# mise en forme des données\n",
    "allx  = [[mots2ind[m] for m,pos in d] for d in alldocs]\n",
    "allxT = [[mots2ind.setdefault(m,len(mots)) for m,pos in d] for d in alldocsT]\n",
    "\n",
    "allq  = [[cles2ind[pos] for m,pos in d] for d in alldocs]\n",
    "allqT = [[cles2ind.setdefault(pos,len(cles)) for m,pos in d] for d in alldocsT]"
   ]
  },
  {
   "cell_type": "code",
   "execution_count": 22,
   "metadata": {},
   "outputs": [
    {
     "name": "stdout",
     "output_type": "stream",
     "text": [
      "[1140, 814, 563, 11, 1294, 4393, 3855, 2854, 3992, 1362, 4242, 1452, 2395, 2855, 1990, 4529, 446, 525, 4299, 3595, 4148, 3368, 2499, 446, 11, 283, 2861, 20]\n",
      "[18, 18, 18, 22, 18, 17, 32, 23, 32, 9, 13, 17, 33, 24, 17, 12, 18, 18, 29, 31, 13, 20, 12, 18, 22, 8, 20, 5]\n"
     ]
    }
   ],
   "source": [
    "# First doc:\n",
    "print(allx[0])\n",
    "print(allq[0])"
   ]
  },
  {
   "cell_type": "markdown",
   "metadata": {},
   "source": [
    "## You turn: apply HMMs to those data!"
   ]
  },
  {
   "cell_type": "code",
   "execution_count": 45,
   "metadata": {},
   "outputs": [],
   "source": [
    "# HMM training \n",
    "# YOUR CODE HERE\n",
    "\n",
    "Pi,A,B=learnHMM(allx,allq,nCles,nMots)\n"
   ]
  },
  {
   "cell_type": "code",
   "execution_count": 46,
   "metadata": {},
   "outputs": [
    {
     "name": "stdout",
     "output_type": "stream",
     "text": [
      "1565 1896 0.82542194092827\n"
     ]
    }
   ],
   "source": [
    "# HMM decoding and performances evaluation\n",
    "# YOUR CODE HERE\n",
    "\n",
    "sequences=[]\n",
    "for x in allxT:\n",
    "    sequence=[]\n",
    "    delta,psi=viterbi(x,Pi,A,B)\n",
    "    for ind in delta:\n",
    "        sequence.append(cles[int(ind)])\n",
    "    sequences.append(sequence)\n",
    "\n",
    "rate=0\n",
    "compteur=0\n",
    "for j,doc in enumerate(alldocsT):\n",
    "    for i in range(len(doc)):\n",
    "        word,POS=doc[i]\n",
    "        predicted_POS=sequences[j][i]\n",
    "        compteur+=1\n",
    "        if predicted_POS==POS:\n",
    "            rate+=1\n",
    "\n",
    "print(rate,compteur,rate/compteur)\n"
   ]
  },
  {
   "cell_type": "markdown",
   "metadata": {},
   "source": [
    "Check : 1564 in test"
   ]
  },
  {
   "cell_type": "markdown",
   "metadata": {},
   "source": [
    "### Qualitative Analyis:\n",
    "\n",
    "- With imshow on the parameters (ou d'un argsort), show what are the probable transition between labels.\n",
    "- Visualize the confusion matrices to understand what is challenging in this task\n",
    "- Find out examples that are corrected by Viterbi decoding\n",
    "\n"
   ]
  },
  {
   "cell_type": "markdown",
   "metadata": {},
   "source": [
    "# 2) Conditional Random Fields (CRF)"
   ]
  },
  {
   "cell_type": "markdown",
   "metadata": {},
   "source": [
    "**CRF are disciminative models** representing the conditional distribution $P( \\mathbf{y} | \\mathbf{x} , \\mathbf{w})$:\n",
    "\n",
    "$$ P( \\mathbf{y} | \\mathbf{x} , \\mathbf{w})  = \\frac{e^{\\mathbf{w}^T  \\psi(\\mathbf{x},\\mathbf{y}) } }{\\sum\\limits_{y' \\in \\mathcal{y}}e^{\\mathbf{w}^T  \\psi(\\mathbf{x},\\mathbf{y}') } } $$ \n",
    "        \n",
    "**In 'linear-chain' CRFs**, the feature functions include **unary terms $u_k$** ($\\sim$ $\\mathbf{B}$ matrix in HMMs) and **pairwise terms $p_k$** ($\\sim$ $\\mathbf{A}$ matrix in HMMs):\n",
    "\n",
    "$$ \\psi(\\mathbf{x},\\mathbf{y}) = \\sum\\limits_{t=1}^T \\sum_{k=1}^K F_k(y_{t-1}, y_t, \\mathbf{x})  =   \\sum\\limits_{t=1}^T \\sum_{k=1}^K \\left[ u_k(y_t, \\mathbf{x}) + p_k(y_{t-1}, y_t, \\mathbf{x}) \\right]$$\n",
    "\n",
    "[<img src=\"https://thome.isir.upmc.fr/classes/RITAL/crf-obs2.png\" width=\"800\" >](https://thome.isir.upmc.fr/classes/RITAL/crf-obs2.png)\n"
   ]
  },
  {
   "cell_type": "markdown",
   "metadata": {},
   "source": [
    "We can directly use resources from nltk: \n",
    "- [CRFTagger](https://tedboy.github.io/nlps/generated/generated/nltk.CRFTagger.html)\n",
    "- [PerceptronTagger](https://www.nltk.org/_modules/nltk/tag/perceptron.html)"
   ]
  },
  {
   "cell_type": "code",
   "execution_count": null,
   "metadata": {},
   "outputs": [],
   "source": [
    "# !pip install python-crfsuite\n",
    "from nltk.tag.crf import CRFTagger\n",
    "tagger = CRFTagger()\n",
    "tagger.train(alldocs, 'out/crf.model') # training"
   ]
  },
  {
   "cell_type": "markdown",
   "metadata": {},
   "source": [
    "### Training and evaluating the model, as before"
   ]
  },
  {
   "cell_type": "markdown",
   "metadata": {},
   "source": [
    "Check: 1720 bonnes réponses"
   ]
  },
  {
   "cell_type": "code",
   "execution_count": null,
   "metadata": {},
   "outputs": [],
   "source": [
    "# perceptron\n",
    "from nltk.tag.perceptron    import PerceptronTagger\n",
    "tagger = PerceptronTagger(load=False)\n",
    "tagger.train(alldocs)"
   ]
  },
  {
   "cell_type": "markdown",
   "metadata": {},
   "source": [
    "Check: 1737 bonnes réponses"
   ]
  },
  {
   "cell_type": "markdown",
   "metadata": {},
   "source": [
    "# Going further\n",
    "\n",
    "- We test the application for PoS, we can run similar experiments for chunking (see parsing indication, very simple to load data)\n",
    "- Run  experiement on the larger dataset. This dataset is still largely used in research. This work can thus be included in your resume :)\n",
    "- Work will be purshed with word embeddings (next practical), and for [NER](https://www.clips.uantwerpen.be/conll2003/ner/) with RNNs (X. Tannier)\n",
    "- [State-of-the-art resources](https://github.com/stanfordnlp/stanza/)"
   ]
  }
 ],
 "metadata": {
  "kernelspec": {
   "display_name": "Python 3 (ipykernel)",
   "language": "python",
   "name": "python3"
  },
  "language_info": {
   "codemirror_mode": {
    "name": "ipython",
    "version": 3
   },
   "file_extension": ".py",
   "mimetype": "text/x-python",
   "name": "python",
   "nbconvert_exporter": "python",
   "pygments_lexer": "ipython3",
   "version": "3.11.5"
  }
 },
 "nbformat": 4,
 "nbformat_minor": 2
}
