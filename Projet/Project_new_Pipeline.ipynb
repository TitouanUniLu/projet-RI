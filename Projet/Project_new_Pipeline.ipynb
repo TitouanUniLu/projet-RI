{
 "cells": [
  {
   "cell_type": "code",
   "execution_count": 11,
   "metadata": {},
   "outputs": [],
   "source": [
    "\n",
    "from sklearn.model_selection import train_test_split\n",
    "from sklearn.feature_extraction.text import CountVectorizer\n",
    "\n",
    "from sklearn.tree import DecisionTreeClassifier\n",
    "from sklearn.model_selection import cross_val_score\n",
    "from sklearn.model_selection import cross_val_predict\n",
    "from sklearn.metrics import mean_squared_error\n",
    "from sklearn.metrics import f1_score\n",
    "from sklearn.metrics import accuracy_score\n",
    "import numpy as np\n",
    "import codecs\n",
    "import re\n",
    "from imblearn.over_sampling import RandomOverSampler\n",
    "from sklearn.pipeline import Pipeline\n",
    "\n",
    "\n",
    "def preprocess_text(text):\n",
    "    # Add your preprocessing steps here\n",
    "    # Example: Tokenization, removing stop words, etc.\n",
    "    text = text.lower()  # Convert text to lowercase\n",
    "    text = re.sub(r\"[^a-zA-Z\\s]\", \"\", text)  # Remove non-alphabetic characters\n",
    "    return text\n",
    "\n",
    "# Load and preprocess text data\n",
    "def load_pres(fname):\n",
    "    alltxts = []\n",
    "    alllabs = []\n",
    "    s = open(fname, 'r', encoding='utf-8')\n",
    "    for line in s:\n",
    "        line = line.strip()  # Remove leading/trailing whitespace\n",
    "        if not line:\n",
    "            continue\n",
    "        match = re.match(r\"<\\d+:\\d+:(.)>\", line)\n",
    "        if match:\n",
    "            label = match.group(1)\n",
    "            text = re.sub(r\"<\\d+:\\d+:.>\", \"\", line)\n",
    "            text = preprocess_text(text)\n",
    "            alltxts.append(text)\n",
    "            alllabs.append(-1 if 'M' in label else 1)\n",
    "    return alltxts, alllabs\n",
    "\n",
    "fname = \"./datasets/AFDpresidentutf8/corpus.tache1.learn.utf8\"\n",
    "alltxts, alllabs = load_pres(fname)"
   ]
  },
  {
   "cell_type": "code",
   "execution_count": 12,
   "metadata": {},
   "outputs": [
    {
     "name": "stdout",
     "output_type": "stream",
     "text": [
      "F1 Score: 0.8864726901480348\n"
     ]
    }
   ],
   "source": [
    "# Vectorization\n",
    "vectorizer = CountVectorizer()\n",
    "X = vectorizer.fit_transform(alltxts)\n",
    "\n",
    "# Train-test Split\n",
    "X_train, X_test, y_train, y_test = train_test_split(X, alllabs, test_size=0.2, random_state=42)\n",
    "\n",
    "# Oversampling\n",
    "over_sampler = RandomOverSampler(sampling_strategy='minority')\n",
    "X_over_train, y_over_train = over_sampler.fit_resample(X_train, y_train)\n",
    "\n",
    "# Define pipeline with oversampling\n",
    "pipeline = Pipeline(steps=[('model', DecisionTreeClassifier())])\n",
    "\n",
    "# Train pipeline\n",
    "pipeline.fit(X_over_train, y_over_train)\n",
    "\n",
    "# Predict probabilities on test set\n",
    "probas = pipeline.predict_proba(X_test)\n",
    "\n",
    "# Save predicted probabilities to a file\n",
    "np.savetxt(\"predicted_probabilities.txt\", probas)\n",
    "\n",
    "# Evaluate pipeline\n",
    "y_pred = pipeline.predict(X_test)\n",
    "f1 = f1_score(y_test, y_pred)\n",
    "print(\"F1 Score:\", f1)"
   ]
  },
  {
   "cell_type": "code",
   "execution_count": 17,
   "metadata": {},
   "outputs": [
    {
     "name": "stdout",
     "output_type": "stream",
     "text": [
      "Class order: [-1  1]\n"
     ]
    }
   ],
   "source": [
    "def load_test_data(fname):\n",
    "    test_texts = []\n",
    "    with open(fname, 'r', encoding='utf-8') as file:\n",
    "        for line in file:\n",
    "            line = line.strip()  # Remove leading/trailing whitespace\n",
    "            if not line:\n",
    "                continue\n",
    "            text = re.sub(r\"<\\d+:\\d+:.>\", \"\", line)  # Remove tags\n",
    "            test_texts.append(text)\n",
    "    return test_texts\n",
    "\n",
    "test_fname = \"./datasets/AFDpresidentutf8/corpus.tache1.test.utf8.txt\"\n",
    "test_texts = load_test_data(test_fname)\n",
    "\n",
    "# Check if there are any test texts\n",
    "if not test_texts:\n",
    "    print(\"No test data found.\")\n",
    "else:\n",
    "    # Vectorize test data using the same vectorizer\n",
    "    X_test_data = vectorizer.transform(test_texts)\n",
    "\n",
    "    # Check if there are any test samples\n",
    "    if X_test_data.shape[0] == 0:\n",
    "        print(\"No test samples found after preprocessing.\")\n",
    "    else:\n",
    "        # Make predictions on test data\n",
    "        test_probas = pipeline.predict_proba(X_test_data)\n",
    "\n",
    "        # Save predicted probabilities on test data to a file\n",
    "        np.savetxt(\"test_predicted_probabilities.txt\", test_probas[:,0])\n",
    "\n",
    "print(\"Class order:\", pipeline.classes_)\n"
   ]
  }
 ],
 "metadata": {
  "kernelspec": {
   "display_name": "Python 3",
   "language": "python",
   "name": "python3"
  },
  "language_info": {
   "codemirror_mode": {
    "name": "ipython",
    "version": 3
   },
   "file_extension": ".py",
   "mimetype": "text/x-python",
   "name": "python",
   "nbconvert_exporter": "python",
   "pygments_lexer": "ipython3",
   "version": "3.12.0"
  }
 },
 "nbformat": 4,
 "nbformat_minor": 2
}
